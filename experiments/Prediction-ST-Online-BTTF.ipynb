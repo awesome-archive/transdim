{
 "cells": [
  {
   "cell_type": "markdown",
   "metadata": {},
   "source": [
    "# About this Notebook\n",
    "\n",
    "**Bayesian Temporal Tensor Factorization** (or **BTTF** for short) is a type of Bayesian tensor decomposition that achieves state-of-the-art results on challenging the missing data imputation problem. In the following, we will discuss:\n",
    "\n",
    "- What the BTTF is?\n",
    "\n",
    "- How to implement BTTF mainly using Python `Numpy` with high efficiency?\n",
    "\n",
    "- How to make imputations with real-world spatiotemporal datasets?\n",
    "\n",
    "If you want to understand what is BTMF and its modeling tricks in detail, our paper is for you:\n",
    "\n",
    "> Xinyu Chen, Lijun Sun (2019). **Bayesian temporal factorization for multidimensional time series prediction**.\n",
    "\n",
    "## Quick Run\n",
    "\n",
    "This notebook is publicly available for any usage at our data imputation project. Please click [**transdim**](https://github.com/xinychen/transdim)."
   ]
  },
  {
   "cell_type": "code",
   "execution_count": 1,
   "metadata": {},
   "outputs": [],
   "source": [
    "import numpy as np\n",
    "from numpy.random import multivariate_normal as mvnrnd\n",
    "from scipy.stats import wishart\n",
    "from scipy.stats import invwishart\n",
    "from numpy.linalg import inv as inv"
   ]
  },
  {
   "cell_type": "markdown",
   "metadata": {},
   "source": [
    "# Part 1: Matrix Computation Concepts\n",
    "\n",
    "## 1) Kronecker product\n",
    "\n",
    "- **Definition**:\n",
    "\n",
    "Given two matrices $A\\in\\mathbb{R}^{m_1\\times n_1}$ and $B\\in\\mathbb{R}^{m_2\\times n_2}$, then, the **Kronecker product** between these two matrices is defined as\n",
    "\n",
    "$$A\\otimes B=\\left[ \\begin{array}{cccc} a_{11}B & a_{12}B & \\cdots & a_{1m_2}B \\\\ a_{21}B & a_{22}B & \\cdots & a_{2m_2}B \\\\ \\vdots & \\vdots & \\ddots & \\vdots \\\\ a_{m_11}B & a_{m_12}B & \\cdots & a_{m_1m_2}B \\\\ \\end{array} \\right]$$\n",
    "where the symbol $\\otimes$ denotes Kronecker product, and the size of resulted $A\\otimes B$ is $(m_1m_2)\\times (n_1n_2)$ (i.e., $m_1\\times m_2$ columns and $n_1\\times n_2$ rows).\n",
    "\n",
    "- **Example**:\n",
    "\n",
    "If $A=\\left[ \\begin{array}{cc} 1 & 2 \\\\ 3 & 4 \\\\ \\end{array} \\right]$ and $B=\\left[ \\begin{array}{ccc} 5 & 6 & 7\\\\ 8 & 9 & 10 \\\\ \\end{array} \\right]$, then, we have\n",
    "\n",
    "$$A\\otimes B=\\left[ \\begin{array}{cc} 1\\times \\left[ \\begin{array}{ccc} 5 & 6 & 7\\\\ 8 & 9 & 10\\\\ \\end{array} \\right] & 2\\times \\left[ \\begin{array}{ccc} 5 & 6 & 7\\\\ 8 & 9 & 10\\\\ \\end{array} \\right] \\\\ 3\\times \\left[ \\begin{array}{ccc} 5 & 6 & 7\\\\ 8 & 9 & 10\\\\ \\end{array} \\right] & 4\\times \\left[ \\begin{array}{ccc} 5 & 6 & 7\\\\ 8 & 9 & 10\\\\ \\end{array} \\right] \\\\ \\end{array} \\right]$$\n",
    "\n",
    "$$=\\left[ \\begin{array}{cccccc} 5 & 6 & 7 & 10 & 12 & 14 \\\\ 8 & 9 & 10 & 16 & 18 & 20 \\\\ 15 & 18 & 21 & 20 & 24 & 28 \\\\ 24 & 27 & 30 & 32 & 36 & 40 \\\\ \\end{array} \\right]\\in\\mathbb{R}^{4\\times 6}.$$\n",
    "\n",
    "## 2) Khatri-Rao product (`kr_prod`)\n",
    "\n",
    "- **Definition**:\n",
    "\n",
    "Given two matrices $A=\\left( \\boldsymbol{a}_1,\\boldsymbol{a}_2,...,\\boldsymbol{a}_r \\right)\\in\\mathbb{R}^{m\\times r}$ and $B=\\left( \\boldsymbol{b}_1,\\boldsymbol{b}_2,...,\\boldsymbol{b}_r \\right)\\in\\mathbb{R}^{n\\times r}$ with same number of columns, then, the **Khatri-Rao product** (or **column-wise Kronecker product**) between $A$ and $B$ is given as follows,\n",
    "\n",
    "$$A\\odot B=\\left( \\boldsymbol{a}_1\\otimes \\boldsymbol{b}_1,\\boldsymbol{a}_2\\otimes \\boldsymbol{b}_2,...,\\boldsymbol{a}_r\\otimes \\boldsymbol{b}_r \\right)\\in\\mathbb{R}^{(mn)\\times r},$$\n",
    "where the symbol $\\odot$ denotes Khatri-Rao product, and $\\otimes$ denotes Kronecker product.\n",
    "\n",
    "- **Example**:\n",
    "\n",
    "If $A=\\left[ \\begin{array}{cc} 1 & 2 \\\\ 3 & 4 \\\\ \\end{array} \\right]=\\left( \\boldsymbol{a}_1,\\boldsymbol{a}_2 \\right) $ and $B=\\left[ \\begin{array}{cc} 5 & 6 \\\\ 7 & 8 \\\\ 9 & 10 \\\\ \\end{array} \\right]=\\left( \\boldsymbol{b}_1,\\boldsymbol{b}_2 \\right) $, then, we have\n",
    "\n",
    "$$A\\odot B=\\left( \\boldsymbol{a}_1\\otimes \\boldsymbol{b}_1,\\boldsymbol{a}_2\\otimes \\boldsymbol{b}_2 \\right) $$\n",
    "\n",
    "$$=\\left[ \\begin{array}{cc} \\left[ \\begin{array}{c} 1 \\\\ 3 \\\\ \\end{array} \\right]\\otimes \\left[ \\begin{array}{c} 5 \\\\ 7 \\\\ 9 \\\\ \\end{array} \\right] & \\left[ \\begin{array}{c} 2 \\\\ 4 \\\\ \\end{array} \\right]\\otimes \\left[ \\begin{array}{c} 6 \\\\ 8 \\\\ 10 \\\\ \\end{array} \\right] \\\\ \\end{array} \\right]$$\n",
    "\n",
    "$$=\\left[ \\begin{array}{cc} 5 & 12 \\\\ 7 & 16 \\\\ 9 & 20 \\\\ 15 & 24 \\\\ 21 & 32 \\\\ 27 & 40 \\\\ \\end{array} \\right]\\in\\mathbb{R}^{6\\times 2}.$$"
   ]
  },
  {
   "cell_type": "code",
   "execution_count": 2,
   "metadata": {},
   "outputs": [],
   "source": [
    "def kr_prod(a, b):\n",
    "    return np.einsum('ir, jr -> ijr', a, b).reshape(a.shape[0] * b.shape[0], -1)"
   ]
  },
  {
   "cell_type": "code",
   "execution_count": 3,
   "metadata": {},
   "outputs": [
    {
     "name": "stdout",
     "output_type": "stream",
     "text": [
      "[[ 5 12]\n",
      " [ 7 16]\n",
      " [ 9 20]\n",
      " [15 24]\n",
      " [21 32]\n",
      " [27 40]]\n"
     ]
    }
   ],
   "source": [
    "A = np.array([[1, 2], [3, 4]])\n",
    "B = np.array([[5, 6], [7, 8], [9, 10]])\n",
    "print(kr_prod(A, B))"
   ]
  },
  {
   "cell_type": "markdown",
   "metadata": {},
   "source": [
    "## 3) Computing Covariance Matrix (`cov_mat`)\n",
    "\n",
    "For any matrix $X\\in\\mathbb{R}^{m\\times n}$, `cov_mat` can return a $n\\times n$ covariance matrix for special use in the following."
   ]
  },
  {
   "cell_type": "code",
   "execution_count": 4,
   "metadata": {},
   "outputs": [],
   "source": [
    "def cov_mat(mat):\n",
    "    dim1, dim2 = mat.shape\n",
    "    new_mat = np.zeros((dim2, dim2))\n",
    "    mat_bar = np.mean(mat, axis = 0)\n",
    "    for i in range(dim1):\n",
    "        new_mat += np.einsum('i, j -> ij', mat[i, :] - mat_bar, mat[i, :] - mat_bar)\n",
    "    return new_mat"
   ]
  },
  {
   "cell_type": "markdown",
   "metadata": {},
   "source": [
    "## 4) CP decomposition (`cp_combine`)\n",
    "\n",
    "- **Definition**:\n",
    "\n",
    "The CP decomposition factorizes a tensor into a sum of outer products of vectors. For example, for a third-order tensor $\\mathcal{Y}\\in\\mathbb{R}^{m\\times n\\times f}$, the CP decomposition can be written as\n",
    "\n",
    "$$\\hat{\\mathcal{Y}}=\\sum_{s=1}^{r}\\boldsymbol{u}_{s}\\circ\\boldsymbol{v}_{s}\\circ\\boldsymbol{x}_{s},$$\n",
    "or element-wise,\n",
    "\n",
    "$$\\hat{y}_{ijt}=\\sum_{s=1}^{r}u_{is}v_{js}x_{ts},\\forall (i,j,t),$$\n",
    "where vectors $\\boldsymbol{u}_{s}\\in\\mathbb{R}^{m},\\boldsymbol{v}_{s}\\in\\mathbb{R}^{n},\\boldsymbol{x}_{s}\\in\\mathbb{R}^{f}$ are columns of factor matrices $U\\in\\mathbb{R}^{m\\times r},V\\in\\mathbb{R}^{n\\times r},X\\in\\mathbb{R}^{f\\times r}$, respectively. The symbol $\\circ$ denotes vector outer product.\n",
    "\n",
    "- **Example**:\n",
    "\n",
    "Given matrices $U=\\left[ \\begin{array}{cc} 1 & 2 \\\\ 3 & 4 \\\\ \\end{array} \\right]\\in\\mathbb{R}^{2\\times 2}$, $V=\\left[ \\begin{array}{cc} 1 & 2 \\\\ 3 & 4 \\\\ 5 & 6 \\\\ \\end{array} \\right]\\in\\mathbb{R}^{3\\times 2}$ and $X=\\left[ \\begin{array}{cc} 1 & 5 \\\\ 2 & 6 \\\\ 3 & 7 \\\\ 4 & 8 \\\\ \\end{array} \\right]\\in\\mathbb{R}^{4\\times 2}$, then if $\\hat{\\mathcal{Y}}=\\sum_{s=1}^{r}\\boldsymbol{u}_{s}\\circ\\boldsymbol{v}_{s}\\circ\\boldsymbol{x}_{s}$, then, we have\n",
    "\n",
    "$$\\hat{Y}_1=\\hat{\\mathcal{Y}}(:,:,1)=\\left[ \\begin{array}{ccc} 31 & 42 & 65 \\\\ 63 & 86 & 135 \\\\ \\end{array} \\right],$$\n",
    "$$\\hat{Y}_2=\\hat{\\mathcal{Y}}(:,:,2)=\\left[ \\begin{array}{ccc} 38 & 52 & 82 \\\\ 78 & 108 & 174 \\\\ \\end{array} \\right],$$\n",
    "$$\\hat{Y}_3=\\hat{\\mathcal{Y}}(:,:,3)=\\left[ \\begin{array}{ccc} 45 & 62 & 99 \\\\ 93 & 130 & 213 \\\\ \\end{array} \\right],$$\n",
    "$$\\hat{Y}_4=\\hat{\\mathcal{Y}}(:,:,4)=\\left[ \\begin{array}{ccc} 52 & 72 & 116 \\\\ 108 & 152 & 252 \\\\ \\end{array} \\right].$$"
   ]
  },
  {
   "cell_type": "code",
   "execution_count": 5,
   "metadata": {},
   "outputs": [],
   "source": [
    "def cp_combine(U, V, X):\n",
    "    return np.einsum('is, js, ts -> ijt', U, V, X)"
   ]
  },
  {
   "cell_type": "code",
   "execution_count": 6,
   "metadata": {},
   "outputs": [
    {
     "name": "stdout",
     "output_type": "stream",
     "text": [
      "[[[ 31  38  45  52]\n",
      "  [ 42  52  62  72]\n",
      "  [ 65  82  99 116]]\n",
      "\n",
      " [[ 63  78  93 108]\n",
      "  [ 86 108 130 152]\n",
      "  [135 174 213 252]]]\n",
      "\n",
      "tensor size:\n",
      "(2, 3, 4)\n"
     ]
    }
   ],
   "source": [
    "U = np.array([[1, 2], [3, 4]])\n",
    "V = np.array([[1, 3], [2, 4], [5, 6]])\n",
    "X = np.array([[1, 5], [2, 6], [3, 7], [4, 8]])\n",
    "print(cp_combine(U, V, X))\n",
    "print()\n",
    "print('tensor size:')\n",
    "print(cp_combine(U, V, X).shape)"
   ]
  },
  {
   "cell_type": "markdown",
   "metadata": {},
   "source": [
    "## 5) Tensor Unfolding (`ten2mat`) and Matrix Folding (`mat2ten`)\n",
    "\n",
    "Using numpy reshape to perform 3rd rank tensor unfold operation. [[**link**](https://stackoverflow.com/questions/49970141/using-numpy-reshape-to-perform-3rd-rank-tensor-unfold-operation)]"
   ]
  },
  {
   "cell_type": "code",
   "execution_count": 7,
   "metadata": {},
   "outputs": [],
   "source": [
    "import numpy as np\n",
    "def ten2mat(tensor, mode):\n",
    "    return np.reshape(np.moveaxis(tensor, mode, 0), (tensor.shape[mode], -1), order = 'F')"
   ]
  },
  {
   "cell_type": "code",
   "execution_count": 8,
   "metadata": {},
   "outputs": [
    {
     "name": "stdout",
     "output_type": "stream",
     "text": [
      "tensor size:\n",
      "(3, 2, 4)\n",
      "original tensor:\n",
      "[[[ 1  2  3  4]\n",
      "  [ 3  4  5  6]]\n",
      "\n",
      " [[ 5  6  7  8]\n",
      "  [ 7  8  9 10]]\n",
      "\n",
      " [[ 9 10 11 12]\n",
      "  [11 12 13 14]]]\n",
      "\n",
      "(1) mode-1 tensor unfolding:\n",
      "[[ 1  3  2  4  3  5  4  6]\n",
      " [ 5  7  6  8  7  9  8 10]\n",
      " [ 9 11 10 12 11 13 12 14]]\n",
      "\n",
      "(2) mode-2 tensor unfolding:\n",
      "[[ 1  5  9  2  6 10  3  7 11  4  8 12]\n",
      " [ 3  7 11  4  8 12  5  9 13  6 10 14]]\n",
      "\n",
      "(3) mode-3 tensor unfolding:\n",
      "[[ 1  5  9  3  7 11]\n",
      " [ 2  6 10  4  8 12]\n",
      " [ 3  7 11  5  9 13]\n",
      " [ 4  8 12  6 10 14]]\n"
     ]
    }
   ],
   "source": [
    "X = np.array([[[1, 2, 3, 4], [3, 4, 5, 6]], [[5, 6, 7, 8], [7, 8, 9, 10]], [[9, 10, 11, 12], [11, 12, 13, 14]]])\n",
    "print('tensor size:')\n",
    "print(X.shape)\n",
    "print('original tensor:')\n",
    "print(X)\n",
    "print()\n",
    "print('(1) mode-1 tensor unfolding:')\n",
    "print(ten2mat(X, 0))\n",
    "print()\n",
    "print('(2) mode-2 tensor unfolding:')\n",
    "print(ten2mat(X, 1))\n",
    "print()\n",
    "print('(3) mode-3 tensor unfolding:')\n",
    "print(ten2mat(X, 2))"
   ]
  },
  {
   "cell_type": "code",
   "execution_count": 9,
   "metadata": {},
   "outputs": [],
   "source": [
    "def mat2ten(mat, tensor_size, mode):\n",
    "    index = list()\n",
    "    index.append(mode)\n",
    "    for i in range(tensor_size.shape[0]):\n",
    "        if i != mode:\n",
    "            index.append(i)\n",
    "    return np.moveaxis(np.reshape(mat, list(tensor_size[index]), order = 'F'), 0, mode)"
   ]
  },
  {
   "cell_type": "markdown",
   "metadata": {},
   "source": [
    "## 6) Generating Matrix Normal Distributed Random Matrix"
   ]
  },
  {
   "cell_type": "code",
   "execution_count": 10,
   "metadata": {},
   "outputs": [],
   "source": [
    "def mnrnd(M, U, V):\n",
    "    \"\"\"\n",
    "    Generate matrix normal distributed random matrix.\n",
    "    M is a m-by-n matrix, U is a m-by-m matrix, and V is a n-by-n matrix.\n",
    "    \"\"\"\n",
    "    dim1, dim2 = M.shape\n",
    "    X0 = np.random.rand(dim1, dim2)\n",
    "    P = np.linalg.cholesky(U)\n",
    "    Q = np.linalg.cholesky(V)\n",
    "    return M + np.matmul(np.matmul(P, X0), Q.T)"
   ]
  },
  {
   "cell_type": "markdown",
   "metadata": {},
   "source": [
    "# Part 2: Bayesian Temporal Tensor Factorization (BTTF)"
   ]
  },
  {
   "cell_type": "code",
   "execution_count": 11,
   "metadata": {},
   "outputs": [],
   "source": [
    "def BTTF(dense_tensor, sparse_tensor, init, rank, time_lags, maxiter1, maxiter2):\n",
    "    \"\"\"Bayesian Temporal Tensor Factorization, BTTF.\"\"\"\n",
    "    U = init[\"U\"]\n",
    "    V = init[\"V\"]\n",
    "    X = init[\"X\"]\n",
    "    \n",
    "    d = time_lags.shape[0]\n",
    "    dim1, dim2, dim3 = sparse_tensor.shape\n",
    "    dim = np.array([dim1, dim2, dim3])\n",
    "    pos = np.where((dense_tensor != 0) & (sparse_tensor == 0))\n",
    "    position = np.where(sparse_tensor != 0)\n",
    "    binary_tensor = np.zeros((dim1, dim2, dim3))\n",
    "    binary_tensor[position] = 1\n",
    "\n",
    "    beta0 = 1\n",
    "    nu0 = rank\n",
    "    mu0 = np.zeros((rank))\n",
    "    W0 = np.eye(rank)\n",
    "    tau = 1\n",
    "    alpha = 1e-6\n",
    "    beta = 1e-6\n",
    "    S0 = np.eye(rank)\n",
    "    Psi0 = np.eye(rank * d)\n",
    "    M0 = np.zeros((rank * d, rank))\n",
    "    \n",
    "    mat_hat = np.zeros((dim1, dim2, dim3 + 1))\n",
    "    U_plus = np.zeros((dim1, rank))\n",
    "    V_plus = np.zeros((dim2, rank))\n",
    "    X_plus = np.zeros((dim3, rank))\n",
    "    X_new = np.zeros((dim3 + 1, rank))\n",
    "    X_new_plus = np.zeros((dim3 + 1, rank))\n",
    "    A_plus = np.zeros((rank, rank, d))\n",
    "    tensor_hat_plus = np.zeros((dim1, dim2, dim3 + 1))\n",
    "    for iters in range(maxiter1):\n",
    "        for order in range(2):\n",
    "            if order == 0:\n",
    "                mat = U.copy()\n",
    "            elif order == 1:\n",
    "                mat = V.copy()\n",
    "            mat_bar = np.mean(mat, axis = 0)\n",
    "            var_mu_hyper = (dim[order] * mat_bar + beta0 * mu0)/(dim[order] + beta0)\n",
    "            var_W_hyper = inv(inv(W0) + cov_mat(mat) + dim[order] * beta0/(dim[order] + beta0)\n",
    "                              * np.outer(mat_bar - mu0, mat_bar - mu0))\n",
    "            var_Lambda_hyper = wishart(df = dim[order] + nu0, scale = var_W_hyper, seed = None).rvs()\n",
    "            var_mu_hyper = mvnrnd(var_mu_hyper, inv((dim[order] + beta0) * var_Lambda_hyper))\n",
    "\n",
    "            if order == 0:\n",
    "                var1 = kr_prod(X, V).T\n",
    "            elif order == 1:\n",
    "                var1 = kr_prod(X, U).T\n",
    "            var2 = kr_prod(var1, var1)\n",
    "            var3 = (tau * np.matmul(var2, ten2mat(binary_tensor, order).T).reshape([rank, rank, dim[order]])\n",
    "                    + np.dstack([var_Lambda_hyper] * dim[order]))\n",
    "            var4 = (tau * np.matmul(var1, ten2mat(sparse_tensor, order).T) \n",
    "                    + np.dstack([np.matmul(var_Lambda_hyper, var_mu_hyper)] * dim[order])[0, :, :])\n",
    "            for i in range(dim[order]):\n",
    "                inv_var_Lambda = inv(var3[ :, :, i])\n",
    "                vec = mvnrnd(np.matmul(inv_var_Lambda, var4[:, i]), inv_var_Lambda)\n",
    "                if order == 0:\n",
    "                    U[i, :] = vec.copy()\n",
    "                elif order == 1:\n",
    "                    V[i, :] = vec.copy()\n",
    "\n",
    "        Z_mat = X[np.max(time_lags) : dim3, :]\n",
    "        Q_mat = np.zeros((dim3 - np.max(time_lags), rank * d))\n",
    "        for t in range(np.max(time_lags), dim3):\n",
    "            Q_mat[t - np.max(time_lags), :] = X[t - time_lags, :].reshape([rank * d])\n",
    "        var_Psi = inv(inv(Psi0) + np.matmul(Q_mat.T, Q_mat))\n",
    "        var_M = np.matmul(var_Psi, np.matmul(inv(Psi0), M0) + np.matmul(Q_mat.T, Z_mat))\n",
    "        var_S = (S0 + np.matmul(Z_mat.T, Z_mat) + np.matmul(np.matmul(M0.T, inv(Psi0)), M0) \n",
    "                 - np.matmul(np.matmul(var_M.T, inv(var_Psi)), var_M))\n",
    "        Sigma = invwishart(df = nu0 + dim3 - np.max(time_lags), scale = var_S, seed = None).rvs()\n",
    "        A = mat2ten(mnrnd(var_M, var_Psi, Sigma).T, np.array([rank, rank, d]), 0)\n",
    "        if iters + 1 > maxiter1 - maxiter2:\n",
    "            A_plus += A\n",
    "\n",
    "        Lambda_x = inv(Sigma)\n",
    "        var1 = kr_prod(V, U).T\n",
    "        var2 = kr_prod(var1, var1)\n",
    "        var3 = (tau * np.matmul(var2, ten2mat(binary_tensor, 2).T).reshape([rank, rank, dim3]) \n",
    "                + np.dstack([Lambda_x] * dim3))\n",
    "        var4 = tau * np.matmul(var1, ten2mat(sparse_tensor, 2).T)\n",
    "        for t in range(dim3):\n",
    "            Mt = np.zeros((rank, rank))\n",
    "            Nt = np.zeros(rank)\n",
    "            if t < np.max(time_lags):\n",
    "                Qt = np.zeros(rank)\n",
    "            else:\n",
    "                Qt = np.matmul(Lambda_x, np.matmul(ten2mat(A, 0), X[t - time_lags, :].reshape([rank * d])))\n",
    "            if t < dim3 - np.min(time_lags):\n",
    "                if t >= np.max(time_lags) and t < dim3 - np.max(time_lags):\n",
    "                    index = list(range(0, d))\n",
    "                else:\n",
    "                    index = list(np.where((t + time_lags >= np.max(time_lags)) & (t + time_lags < dim3)))[0]\n",
    "                for k in index:\n",
    "                    Ak = A[:, :, k]\n",
    "                    Mt += np.matmul(np.matmul(Ak.T, Lambda_x), Ak)\n",
    "                    A0 = A.copy()\n",
    "                    A0[:, :, k] = 0\n",
    "                    var5 = (X[t + time_lags[k], :] \n",
    "                            - np.matmul(ten2mat(A0, 0), X[t + time_lags[k] - time_lags, :].reshape([rank * d])))\n",
    "                    Nt += np.matmul(np.matmul(Ak.T, Lambda_x), var5)\n",
    "            var_mu = var4[:, t] + Nt + Qt\n",
    "            if t < np.max(time_lags):\n",
    "                inv_var_Lambda = inv(var3[:, :, t] + Mt - Lambda_x + np.eye(rank))\n",
    "            else:\n",
    "                inv_var_Lambda = inv(var3[:, :, t] + Mt)\n",
    "            X[t, :] = mvnrnd(np.matmul(inv_var_Lambda, var_mu), inv_var_Lambda)\n",
    "\n",
    "        if iters + 1 > maxiter1 - maxiter2:\n",
    "            U_plus += U\n",
    "            V_plus += V\n",
    "            X_plus += X\n",
    "\n",
    "        tensor_hat = cp_combine(U, V, X)\n",
    "        if iters + 1 > maxiter1 - maxiter2:\n",
    "            X_new[0 : dim3, :] = X.copy()\n",
    "            X_new[dim3, :] = np.matmul(ten2mat(A, 0), X_new[dim3 - time_lags, :].reshape([rank * d]))\n",
    "            X_new_plus += X_new\n",
    "            tensor_hat_plus += cp_combine(U, V, X_new)\n",
    "        \n",
    "        tau = np.random.gamma(alpha + 0.5 * sparse_tensor[position].shape[0], \n",
    "                              1/(beta + 0.5 * np.sum((sparse_tensor - tensor_hat)[position] ** 2)))\n",
    "        rmse = np.sqrt(np.sum((dense_tensor[pos] - tensor_hat[pos]) ** 2)/dense_tensor[pos].shape[0])\n",
    "        if (iters + 1) % 200 == 0 and iters < maxiter1 - maxiter2:\n",
    "            print('Iter: {}'.format(iters + 1))\n",
    "            print('RMSE: {:.6}'.format(rmse))\n",
    "            print()\n",
    "\n",
    "    U = U_plus/maxiter2\n",
    "    V = V_plus/maxiter2\n",
    "    X = X_plus/maxiter2\n",
    "    X_new = X_new_plus/maxiter2\n",
    "    A = A_plus/maxiter2\n",
    "    tensor_hat = tensor_hat_plus/maxiter2\n",
    "    if maxiter1 >= 100:\n",
    "        final_mape = np.sum(np.abs(dense_tensor[pos] \n",
    "                                   - tensor_hat[pos])/dense_tensor[pos])/dense_tensor[pos].shape[0]\n",
    "        final_rmse = np.sqrt(np.sum((dense_tensor[pos] - tensor_hat[pos]) ** 2)/dense_tensor[pos].shape[0])\n",
    "        print('Imputation MAPE: {:.6}'.format(final_mape))\n",
    "        print('Imputation RMSE: {:.6}'.format(final_rmse))\n",
    "        print()\n",
    "    \n",
    "    return tensor_hat, U, V, X_new, A"
   ]
  },
  {
   "cell_type": "code",
   "execution_count": 12,
   "metadata": {},
   "outputs": [],
   "source": [
    "def OnlineBTTF(sparse_mat, init, time_lags, maxiter1, maxiter2):\n",
    "    \"\"\"Online Bayesain Temporal Tensor Factorization\"\"\"\n",
    "    U = init[\"U\"]\n",
    "    V = init[\"V\"]\n",
    "    X = init[\"X\"]\n",
    "    A = init[\"A\"]\n",
    "    \n",
    "    d = time_lags.shape[0]\n",
    "    dim1, dim2 = sparse_mat.shape\n",
    "    dim3 = 1\n",
    "    sparse_tensor = sparse_mat.reshape([dim1, dim2, dim3])\n",
    "    t = X.shape[0]\n",
    "    rank = X.shape[1]\n",
    "    position = np.where(sparse_mat != 0)\n",
    "    binary_tensor = np.zeros((dim1, dim2, dim3))\n",
    "    binary_tensor[position] = 1\n",
    "\n",
    "    tau = 1\n",
    "    alpha = 1e-6\n",
    "    beta = 1e-6\n",
    "    nu0 = rank\n",
    "    W0 = np.eye(rank)\n",
    "    var_mu0 = np.matmul(ten2mat(A, 0), X[t - 1 - time_lags, :].reshape([rank * d]))\n",
    "\n",
    "    X_new = np.zeros((t + 1, rank))\n",
    "    X_new_plus = np.zeros((t + 1, rank))\n",
    "    tensor_hat_plus = np.zeros((U.shape[0], V.shape[0], t + 1))\n",
    "    for iters in range(maxiter1):\n",
    "        vec0 = X[t - 1, :] - var_mu0\n",
    "        Lambda_x = wishart(df = nu0 + 1, scale = inv(inv(W0) + np.outer(vec0, vec0)), seed = None).rvs()\n",
    "        \n",
    "        var1 = kr_prod(V, U).T\n",
    "        var2 = kr_prod(var1, var1)\n",
    "        var_mu = tau * np.matmul(var1, ten2mat(sparse_tensor, 2).reshape([dim1 * dim2])) + np.matmul(Lambda_x, var_mu0)\n",
    "        inv_var_Lambda = inv(tau * np.matmul(var2, ten2mat(binary_tensor, 2).reshape([dim1 * dim2])).reshape([rank, rank]) + Lambda_x)\n",
    "        X[t - 1, :] = mvnrnd(np.matmul(inv_var_Lambda, var_mu), inv_var_Lambda)\n",
    "        \n",
    "        mat_hat = np.einsum('ir, jr, r -> ij', U, V, X[t - 1, :])\n",
    "        \n",
    "        tau = np.random.gamma(alpha + 0.5 * sparse_mat[position].shape[0], \n",
    "                              1/(beta + 0.5 * np.sum((sparse_mat - mat_hat)[position] ** 2)))\n",
    "        \n",
    "        if iters + 1 > maxiter1 - maxiter2:\n",
    "            X_new[0 : t, :] = X.copy()\n",
    "            X_new[t, :] = np.matmul(ten2mat(A, 0), X_new[t - time_lags, :].reshape([rank * d]))\n",
    "            X_new_plus += X_new\n",
    "            tensor_hat_plus += cp_combine(U, V, X_new)\n",
    "\n",
    "    X_new = X_new_plus/maxiter2\n",
    "    tensor_hat = tensor_hat_plus/maxiter2\n",
    "\n",
    "    return tensor_hat, X_new"
   ]
  },
  {
   "cell_type": "code",
   "execution_count": 13,
   "metadata": {},
   "outputs": [],
   "source": [
    "def st_prediction(dense_tensor, sparse_tensor, pred_time_steps, rank, time_lags, maxiter):\n",
    "    start_time = dense_tensor.shape[2] - pred_time_steps\n",
    "    dense_tensor0 = dense_tensor[:, :, 0 : start_time]\n",
    "    sparse_tensor0 = sparse_tensor[:, :, 0 : start_time]\n",
    "    dim1 = sparse_tensor0.shape[0]\n",
    "    dim2 = sparse_tensor0.shape[1]\n",
    "    dim3 = sparse_tensor0.shape[2]\n",
    "    tensor_hat = np.zeros((dim1, dim2, pred_time_steps))\n",
    "    \n",
    "    for t in range(pred_time_steps):\n",
    "        if t == 0:\n",
    "            init = {\"U\": 0.1 * np.random.rand(dim1, rank), \"V\": 0.1 * np.random.rand(dim2, rank),\n",
    "                    \"X\": 0.1 * np.random.rand(dim3, rank)}\n",
    "            tensor, U, V, X, A = BTTF(dense_tensor0, sparse_tensor0, init, rank, time_lags, maxiter[0], maxiter[1])\n",
    "            X0 = X.copy()\n",
    "        else:\n",
    "            sparse_tensor1 = sparse_tensor[:, :, 0 : start_time + t]\n",
    "            init = {\"U\": U, \"V\": V, \"X\": X0, \"A\": A}\n",
    "            tensor, X = OnlineBTTF(sparse_tensor1[:, :, -1], init, time_lags, maxiter[2], maxiter[3])\n",
    "            X0 = X.copy()\n",
    "        tensor_hat[:, :, t] = tensor[:, :, -1]\n",
    "        if (t + 1) % 40 == 0:\n",
    "            print('Time step: {}'.format(t + 1))\n",
    "\n",
    "    small_dense_tensor = dense_tensor[:, :, start_time : dense_tensor.shape[2]]\n",
    "    pos = np.where(small_dense_tensor != 0)\n",
    "    final_mape = np.sum(np.abs(small_dense_tensor[pos] - \n",
    "                               tensor_hat[pos])/small_dense_tensor[pos])/small_dense_tensor[pos].shape[0]\n",
    "    final_rmse = np.sqrt(np.sum((small_dense_tensor[pos] - \n",
    "                                 tensor_hat[pos]) ** 2)/small_dense_tensor[pos].shape[0])\n",
    "    print('Final MAPE: {:.6}'.format(final_mape))\n",
    "    print('Final RMSE: {:.6}'.format(final_rmse))\n",
    "    print()\n",
    "    return tensor_hat"
   ]
  },
  {
   "cell_type": "markdown",
   "metadata": {},
   "source": [
    "**How to transform a data set into something we can use for missing data imputation?**\n"
   ]
  },
  {
   "cell_type": "code",
   "execution_count": 14,
   "metadata": {},
   "outputs": [],
   "source": [
    "import scipy.io\n",
    "\n",
    "tensor = scipy.io.loadmat('../NYC-data-set/tensor.mat')\n",
    "dense_tensor = tensor['tensor']\n",
    "rm_tensor = scipy.io.loadmat('../NYC-data-set/rm_tensor.mat')\n",
    "rm_tensor = rm_tensor['rm_tensor']\n",
    "nm_tensor = scipy.io.loadmat('../NYC-data-set/nm_tensor.mat')\n",
    "nm_tensor = nm_tensor['nm_tensor']\n",
    "\n",
    "missing_rate = 0.0\n",
    "\n",
    "# =============================================================================\n",
    "### Random missing (RM) scenario\n",
    "### Set the RM scenario by:\n",
    "binary_tensor = np.round(rm_tensor + 0.5 - missing_rate)\n",
    "# =============================================================================\n",
    "\n",
    "sparse_tensor = np.multiply(dense_tensor, binary_tensor)"
   ]
  },
  {
   "cell_type": "code",
   "execution_count": 15,
   "metadata": {},
   "outputs": [
    {
     "name": "stderr",
     "output_type": "stream",
     "text": [
      "/Users/xinyuchen/anaconda3/lib/python3.7/site-packages/ipykernel_launcher.py:124: RuntimeWarning: invalid value encountered in double_scalars\n",
      "/Users/xinyuchen/anaconda3/lib/python3.7/site-packages/ipykernel_launcher.py:138: RuntimeWarning: invalid value encountered in double_scalars\n",
      "/Users/xinyuchen/anaconda3/lib/python3.7/site-packages/ipykernel_launcher.py:139: RuntimeWarning: invalid value encountered in double_scalars\n"
     ]
    },
    {
     "name": "stdout",
     "output_type": "stream",
     "text": [
      "Imputation MAPE: nan\n",
      "Imputation RMSE: nan\n",
      "\n",
      "Time step: 40\n",
      "Time step: 80\n",
      "Time step: 120\n",
      "Time step: 160\n",
      "Final MAPE: 0.587582\n",
      "Final RMSE: 5.30109\n",
      "\n",
      "Running time: 1432 seconds\n"
     ]
    }
   ],
   "source": [
    "import time\n",
    "start = time.time()\n",
    "pred_time_steps = 24 * 7\n",
    "rank = 30\n",
    "time_lags = np.array([1, 2, 24])\n",
    "maxiter = np.array([200, 100, 200, 100])\n",
    "small_sparse_tensor = sparse_tensor[:, :, dense_tensor.shape[2] - pred_time_steps : dense_tensor.shape[2]]\n",
    "small_dense_tensor = dense_tensor[:, :, dense_tensor.shape[2] - pred_time_steps : dense_tensor.shape[2]]\n",
    "tensor_hat = st_prediction(dense_tensor, sparse_tensor, pred_time_steps, rank, time_lags, maxiter)\n",
    "end = time.time()\n",
    "print('Running time: %d seconds'%(end - start))"
   ]
  },
  {
   "cell_type": "code",
   "execution_count": 16,
   "metadata": {},
   "outputs": [],
   "source": [
    "import scipy.io\n",
    "\n",
    "tensor = scipy.io.loadmat('../NYC-data-set/tensor.mat')\n",
    "dense_tensor = tensor['tensor']\n",
    "rm_tensor = scipy.io.loadmat('../NYC-data-set/rm_tensor.mat')\n",
    "rm_tensor = rm_tensor['rm_tensor']\n",
    "nm_tensor = scipy.io.loadmat('../NYC-data-set/nm_tensor.mat')\n",
    "nm_tensor = nm_tensor['nm_tensor']\n",
    "\n",
    "missing_rate = 0.1\n",
    "\n",
    "# =============================================================================\n",
    "### Random missing (RM) scenario\n",
    "### Set the RM scenario by:\n",
    "binary_tensor = np.round(rm_tensor + 0.5 - missing_rate)\n",
    "# =============================================================================\n",
    "\n",
    "sparse_tensor = np.multiply(dense_tensor, binary_tensor)"
   ]
  },
  {
   "cell_type": "code",
   "execution_count": 17,
   "metadata": {},
   "outputs": [
    {
     "name": "stdout",
     "output_type": "stream",
     "text": [
      "Imputation MAPE: 0.533769\n",
      "Imputation RMSE: 4.811\n",
      "\n",
      "Time step: 40\n",
      "Time step: 80\n",
      "Time step: 120\n",
      "Time step: 160\n",
      "Final MAPE: 0.586588\n",
      "Final RMSE: 5.29504\n",
      "\n",
      "Running time: 1595 seconds\n"
     ]
    }
   ],
   "source": [
    "import time\n",
    "start = time.time()\n",
    "pred_time_steps = 24 * 7\n",
    "rank = 30\n",
    "time_lags = np.array([1, 2, 24])\n",
    "maxiter = np.array([200, 100, 200, 100])\n",
    "small_sparse_tensor = sparse_tensor[:, :, dense_tensor.shape[2] - pred_time_steps : dense_tensor.shape[2]]\n",
    "small_dense_tensor = dense_tensor[:, :, dense_tensor.shape[2] - pred_time_steps : dense_tensor.shape[2]]\n",
    "tensor_hat = st_prediction(dense_tensor, sparse_tensor, pred_time_steps, rank, time_lags, maxiter)\n",
    "end = time.time()\n",
    "print('Running time: %d seconds'%(end - start))"
   ]
  },
  {
   "cell_type": "code",
   "execution_count": 18,
   "metadata": {},
   "outputs": [],
   "source": [
    "import scipy.io\n",
    "\n",
    "tensor = scipy.io.loadmat('../NYC-data-set/tensor.mat')\n",
    "dense_tensor = tensor['tensor']\n",
    "rm_tensor = scipy.io.loadmat('../NYC-data-set/rm_tensor.mat')\n",
    "rm_tensor = rm_tensor['rm_tensor']\n",
    "nm_tensor = scipy.io.loadmat('../NYC-data-set/nm_tensor.mat')\n",
    "nm_tensor = nm_tensor['nm_tensor']\n",
    "\n",
    "missing_rate = 0.3\n",
    "\n",
    "# =============================================================================\n",
    "### Random missing (RM) scenario\n",
    "### Set the RM scenario by:\n",
    "binary_tensor = np.round(rm_tensor + 0.5 - missing_rate)\n",
    "# =============================================================================\n",
    "\n",
    "sparse_tensor = np.multiply(dense_tensor, binary_tensor)"
   ]
  },
  {
   "cell_type": "code",
   "execution_count": 19,
   "metadata": {},
   "outputs": [
    {
     "name": "stdout",
     "output_type": "stream",
     "text": [
      "Imputation MAPE: 0.531925\n",
      "Imputation RMSE: 4.92126\n",
      "\n",
      "Time step: 40\n",
      "Time step: 80\n",
      "Time step: 120\n",
      "Time step: 160\n",
      "Final MAPE: 0.587577\n",
      "Final RMSE: 5.39982\n",
      "\n",
      "Running time: 1087 seconds\n"
     ]
    }
   ],
   "source": [
    "import time\n",
    "start = time.time()\n",
    "pred_time_steps = 24 * 7\n",
    "rank = 30\n",
    "time_lags = np.array([1, 2, 24])\n",
    "maxiter = np.array([200, 100, 200, 100])\n",
    "small_sparse_tensor = sparse_tensor[:, :, dense_tensor.shape[2] - pred_time_steps : dense_tensor.shape[2]]\n",
    "small_dense_tensor = dense_tensor[:, :, dense_tensor.shape[2] - pred_time_steps : dense_tensor.shape[2]]\n",
    "tensor_hat = st_prediction(dense_tensor, sparse_tensor, pred_time_steps, rank, time_lags, maxiter)\n",
    "end = time.time()\n",
    "print('Running time: %d seconds'%(end - start))"
   ]
  },
  {
   "cell_type": "code",
   "execution_count": 20,
   "metadata": {},
   "outputs": [],
   "source": [
    "import scipy.io\n",
    "\n",
    "tensor = scipy.io.loadmat('../NYC-data-set/tensor.mat')\n",
    "dense_tensor = tensor['tensor']\n",
    "rm_tensor = scipy.io.loadmat('../NYC-data-set/rm_tensor.mat')\n",
    "rm_tensor = rm_tensor['rm_tensor']\n",
    "nm_tensor = scipy.io.loadmat('../NYC-data-set/nm_tensor.mat')\n",
    "nm_tensor = nm_tensor['nm_tensor']\n",
    "\n",
    "missing_rate = 0.1\n",
    "\n",
    "# =============================================================================\n",
    "### Non-random missing (NM) scenario\n",
    "### Set the NM scenario by:\n",
    "binary_tensor = np.zeros(dense_tensor.shape)\n",
    "for i1 in range(dense_tensor.shape[0]):\n",
    "    for i2 in range(dense_tensor.shape[1]):\n",
    "        for i3 in range(61):\n",
    "            binary_tensor[i1, i2, i3 * 24 : (i3 + 1) * 24] = np.round(nm_tensor[i1, i2, i3] \n",
    "                                                                      + 0.5 - missing_rate)\n",
    "# =============================================================================\n",
    "\n",
    "sparse_tensor = np.multiply(dense_tensor, binary_tensor)"
   ]
  },
  {
   "cell_type": "code",
   "execution_count": 21,
   "metadata": {},
   "outputs": [
    {
     "name": "stdout",
     "output_type": "stream",
     "text": [
      "Imputation MAPE: 0.537513\n",
      "Imputation RMSE: 4.8318\n",
      "\n",
      "Time step: 40\n",
      "Time step: 80\n",
      "Time step: 120\n",
      "Time step: 160\n",
      "Final MAPE: 0.58577\n",
      "Final RMSE: 5.26301\n",
      "\n",
      "Running time: 1084 seconds\n"
     ]
    }
   ],
   "source": [
    "import time\n",
    "start = time.time()\n",
    "pred_time_steps = 24 * 7\n",
    "rank = 30\n",
    "time_lags = np.array([1, 2, 24])\n",
    "maxiter = np.array([200, 100, 200, 100])\n",
    "small_sparse_tensor = sparse_tensor[:, :, dense_tensor.shape[2] - pred_time_steps : dense_tensor.shape[2]]\n",
    "small_dense_tensor = dense_tensor[:, :, dense_tensor.shape[2] - pred_time_steps : dense_tensor.shape[2]]\n",
    "tensor_hat = st_prediction(dense_tensor, sparse_tensor, pred_time_steps, rank, time_lags, maxiter)\n",
    "end = time.time()\n",
    "print('Running time: %d seconds'%(end - start))"
   ]
  },
  {
   "cell_type": "code",
   "execution_count": 22,
   "metadata": {},
   "outputs": [],
   "source": [
    "import scipy.io\n",
    "\n",
    "tensor = scipy.io.loadmat('../NYC-data-set/tensor.mat')\n",
    "dense_tensor = tensor['tensor']\n",
    "rm_tensor = scipy.io.loadmat('../NYC-data-set/rm_tensor.mat')\n",
    "rm_tensor = rm_tensor['rm_tensor']\n",
    "nm_tensor = scipy.io.loadmat('../NYC-data-set/nm_tensor.mat')\n",
    "nm_tensor = nm_tensor['nm_tensor']\n",
    "\n",
    "missing_rate = 0.3\n",
    "\n",
    "# =============================================================================\n",
    "### Non-random missing (NM) scenario\n",
    "### Set the NM scenario by:\n",
    "binary_tensor = np.zeros(dense_tensor.shape)\n",
    "for i1 in range(dense_tensor.shape[0]):\n",
    "    for i2 in range(dense_tensor.shape[1]):\n",
    "        for i3 in range(61):\n",
    "            binary_tensor[i1, i2, i3 * 24 : (i3 + 1) * 24] = np.round(nm_tensor[i1, i2, i3] \n",
    "                                                                      + 0.5 - missing_rate)\n",
    "# =============================================================================\n",
    "\n",
    "sparse_tensor = np.multiply(dense_tensor, binary_tensor)"
   ]
  },
  {
   "cell_type": "code",
   "execution_count": 23,
   "metadata": {},
   "outputs": [
    {
     "name": "stdout",
     "output_type": "stream",
     "text": [
      "Imputation MAPE: 0.526796\n",
      "Imputation RMSE: 4.89139\n",
      "\n",
      "Time step: 40\n",
      "Time step: 80\n",
      "Time step: 120\n",
      "Time step: 160\n",
      "Final MAPE: 0.57862\n",
      "Final RMSE: 5.31899\n",
      "\n",
      "Running time: 1084 seconds\n"
     ]
    }
   ],
   "source": [
    "import time\n",
    "start = time.time()\n",
    "pred_time_steps = 24 * 7\n",
    "rank = 30\n",
    "time_lags = np.array([1, 2, 24])\n",
    "maxiter = np.array([200, 100, 200, 100])\n",
    "small_sparse_tensor = sparse_tensor[:, :, dense_tensor.shape[2] - pred_time_steps : dense_tensor.shape[2]]\n",
    "small_dense_tensor = dense_tensor[:, :, dense_tensor.shape[2] - pred_time_steps : dense_tensor.shape[2]]\n",
    "tensor_hat = st_prediction(dense_tensor, sparse_tensor, pred_time_steps, rank, time_lags, maxiter)\n",
    "end = time.time()\n",
    "print('Running time: %d seconds'%(end - start))"
   ]
  },
  {
   "cell_type": "markdown",
   "metadata": {},
   "source": [
    "**Experiment results** of short-term traffic prediction with missing values using Bayesian temporal tensor factorization (BTTF):\n",
    "\n",
    "|  scenario |`back_steps`|`rank`|`time_lags`| `maxiter` |       mape |      rmse |\n",
    "|:----------|-----:|-----:|---------:|---------:|-----------:|----------:|\n",
    "|**Original data**| - | 30 | (1,2,24) | (1000,500,500,500) | **0.5876** | **5.30**|\n",
    "|**10%, RM**| - | 30 | (1,2,24) | (1000,500,500,500) | **0.5866** | **5.30**|\n",
    "|**30%, RM**| - | 30 | (1,2,24) | (1000,500,500,500) | **0.5876** | **5.40**|\n",
    "|**10%, NM**| - | 30 | (1,2,24) | (1000,500,100,100) | **0.5858** | **5.26**|\n",
    "|**30%, NM**| - | 30 | (1,2,24) | (1000,500,100,100) | **0.5786** | **5.32**|\n"
   ]
  },
  {
   "cell_type": "code",
   "execution_count": 70,
   "metadata": {},
   "outputs": [
    {
     "data": {
      "image/png": "[encoded data removed]",
      "text/plain": [
       "<Figure size 320x248 with 2 Axes>"
      ]
     },
     "metadata": {},
     "output_type": "display_data"
    }
   ],
   "source": [
    "import seaborn as sns\n",
    "import matplotlib.pyplot as plt\n",
    "\n",
    "plt.style.use('classic')\n",
    "plt.style.use('ggplot')\n",
    "plt.style.use('bmh')\n",
    "plt.rcParams['font.family'] = 'Arial'\n",
    "fig = plt.figure(figsize = (4, 3.1))\n",
    "ax = fig.add_axes([0.12, 0.14, 0.80, 0.83])\n",
    "ax = sns.heatmap(small_dense_tensor[:, :, 33 + 48], cmap = 'OrRd', vmin = 0, vmax = 150, linewidth = 0.01,\n",
    "                cbar_kws={'label': 'Volume'})\n",
    "plt.xticks(np.arange(0.5, 30, 2), [\"1\", \"3\", \"5\", \"7\", \"9\", \n",
    "                                \"11\", \"13\", \"15\", \"17\", \"19\", \n",
    "                                \"21\", \"23\", \"25\", \"27\", \"29\"], rotation = 0, **axis_font)\n",
    "plt.yticks(np.arange(0.5, 30, 2), [\"1\", \"3\", \"5\", \"7\", \"9\", \n",
    "                                \"11\", \"13\", \"15\", \"17\", \"19\", \n",
    "                                \"21\", \"23\", \"25\", \"27\", \"29\"], rotation = 0, **axis_font)\n",
    "ax.set_xlabel(\"Zone\", **axis_font)\n",
    "ax.set_ylabel(\"Zone\", **axis_font)\n",
    "ax.axis(**axis_font)\n",
    "plt.show()\n",
    "fig.savefig(\"../images/Ndata_heatmap_actual_values_33.pdf\")"
   ]
  },
  {
   "cell_type": "code",
   "execution_count": 71,
   "metadata": {},
   "outputs": [
    {
     "data": {
      "image/png": "[encoded data removed]",
      "text/plain": [
       "<Figure size 320x248 with 2 Axes>"
      ]
     },
     "metadata": {},
     "output_type": "display_data"
    }
   ],
   "source": [
    "plt.rcParams['font.family'] = 'Arial'\n",
    "fig = plt.figure(figsize = (4, 3.1))\n",
    "ax = fig.add_axes([0.12, 0.14, 0.80, 0.83])\n",
    "ax = sns.heatmap(tensor_hat[:, :, 33 + 48], cmap = 'OrRd', vmin = 0, vmax = 150, linewidth = 0.01,\n",
    "                cbar_kws={'label': 'Volume'})\n",
    "plt.xticks(np.arange(0.5, 30, 2), [\"1\", \"3\", \"5\", \"7\", \"9\", \n",
    "                                \"11\", \"13\", \"15\", \"17\", \"19\", \n",
    "                                \"21\", \"23\", \"25\", \"27\", \"29\"], rotation = 0)\n",
    "plt.yticks(np.arange(0.5, 30, 2), [\"1\", \"3\", \"5\", \"7\", \"9\", \n",
    "                                \"11\", \"13\", \"15\", \"17\", \"19\", \n",
    "                                \"21\", \"23\", \"25\", \"27\", \"29\"], rotation = 0)\n",
    "ax.set_xlabel(\"Zone\")\n",
    "ax.set_ylabel(\"Zone\")\n",
    "plt.show()\n",
    "fig.savefig(\"../images/Ndata_heatmap_predicted_values_33.pdf\")"
   ]
  },
  {
   "cell_type": "code",
   "execution_count": 72,
   "metadata": {},
   "outputs": [
    {
     "data": {
      "image/png": "[encoded data removed]",
      "text/plain": [
       "<Figure size 320x248 with 2 Axes>"
      ]
     },
     "metadata": {},
     "output_type": "display_data"
    }
   ],
   "source": [
    "plt.rcParams['font.family'] = 'Arial'\n",
    "fig = plt.figure(figsize = (4, 3.1))\n",
    "ax = fig.add_axes([0.12, 0.14, 0.80, 0.83])\n",
    "ax = sns.heatmap(small_dense_tensor[:, :, 32 + 48], cmap = 'OrRd', vmin = 0, vmax = 200, linewidth = 0.01,\n",
    "                cbar_kws={'label': 'Volume'})\n",
    "plt.xticks(np.arange(0.5, 30, 2), [\"1\", \"3\", \"5\", \"7\", \"9\", \n",
    "                                \"11\", \"13\", \"15\", \"17\", \"19\", \n",
    "                                \"21\", \"23\", \"25\", \"27\", \"29\"], rotation = 0)\n",
    "plt.yticks(np.arange(0.5, 30, 2), [\"1\", \"3\", \"5\", \"7\", \"9\", \n",
    "                                \"11\", \"13\", \"15\", \"17\", \"19\", \n",
    "                                \"21\", \"23\", \"25\", \"27\", \"29\"], rotation = 0)\n",
    "ax.set_xlabel(\"Zone\")\n",
    "ax.set_ylabel(\"Zone\")\n",
    "plt.show()\n",
    "fig.savefig(\"../images/Ndata_heatmap_actual_values_32.pdf\")"
   ]
  },
  {
   "cell_type": "code",
   "execution_count": 73,
   "metadata": {},
   "outputs": [
    {
     "data": {
      "image/png": "[encoded data removed]",
      "text/plain": [
       "<Figure size 320x248 with 2 Axes>"
      ]
     },
     "metadata": {},
     "output_type": "display_data"
    }
   ],
   "source": [
    "plt.rcParams['font.family'] = 'Arial'\n",
    "fig = plt.figure(figsize = (4, 3.1))\n",
    "ax = fig.add_axes([0.12, 0.14, 0.80, 0.83])\n",
    "ax = sns.heatmap(tensor_hat[:, :, 32 + 48], cmap = 'OrRd', vmin = 0, vmax = 200, linewidth = 0.01,\n",
    "                cbar_kws={'label': 'Volume'})\n",
    "plt.xticks(np.arange(0.5, 30, 2), [\"1\", \"3\", \"5\", \"7\", \"9\", \n",
    "                                \"11\", \"13\", \"15\", \"17\", \"19\", \n",
    "                                \"21\", \"23\", \"25\", \"27\", \"29\"], rotation = 0)\n",
    "plt.yticks(np.arange(0.5, 30, 2), [\"1\", \"3\", \"5\", \"7\", \"9\", \n",
    "                                \"11\", \"13\", \"15\", \"17\", \"19\", \n",
    "                                \"21\", \"23\", \"25\", \"27\", \"29\"], rotation = 0)\n",
    "ax.set_xlabel(\"Zone\")\n",
    "ax.set_ylabel(\"Zone\")\n",
    "plt.show()\n",
    "fig.savefig(\"../images/Ndata_heatmap_predicted_values_32.pdf\")"
   ]
  },
  {
   "cell_type": "code",
   "execution_count": 74,
   "metadata": {},
   "outputs": [
    {
     "data": {
      "image/png": "[encoded data removed]",
      "text/plain": [
       "<Figure size 340x124 with 1 Axes>"
      ]
     },
     "metadata": {},
     "output_type": "display_data"
    }
   ],
   "source": [
    "import matplotlib.pyplot as plt\n",
    "import matplotlib.patches as patches\n",
    "\n",
    "plt.style.use('classic')\n",
    "plt.rcParams['font.family'] = 'Arial'\n",
    "fig = plt.figure(figsize=(4.25, 1.55))\n",
    "ax = fig.add_axes([0.14, 0.20, 0.84, 0.75])\n",
    "plt.plot(small_dense_tensor[16, 12, :], color = \"#006ea3\",linewidth = 1.0, label = \"Actual value\")\n",
    "plt.plot(tensor_hat[16, 12, :], color = \"#e3120b\", linewidth = 1.5, label = \"Predicted value\")\n",
    "ax.set_xlim([0, pred_time_steps])\n",
    "ax.set_ylim([0, 150])\n",
    "ax.grid(color = 'gray', linestyle = '-', linewidth = 0.1, alpha = 0.2)\n",
    "small_sparse_tensor = sparse_tensor[:, :, dense_tensor.shape[2] - pred_time_steps : dense_tensor.shape[2]]\n",
    "for j in range(7):\n",
    "    if small_sparse_tensor[16, 12, 24 * j] > 0:\n",
    "        someX, someY = j * 24, 0\n",
    "        currentAxis = plt.gca()\n",
    "        ax.add_patch(patches.Rectangle((someX, someY), 24, 150, alpha = 0.1, facecolor = 'green'))\n",
    "\n",
    "plt.xticks(np.arange(0, 7 * 24, 24), [\"         Jun.24\", \"         Jun.25\", \n",
    "                                        \"          Jun.26\", \"           Jun.27\", \n",
    "                                       \"           Jun.28\", \"            Jun.29\", \n",
    "                                       \"             Jun.30\"])\n",
    "plt.yticks(np.arange(0, 150, 40), [0, 40, 80, 120], **axis_font)\n",
    "ax.set_ylabel(\"Volume\")\n",
    "ax.grid(color = 'gray', linestyle = '-', linewidth = 0.4, alpha = 0.5, axis = 'x')\n",
    "plt.show()\n",
    "fig.savefig(\"../images/NYC_time_series_volume_1713.pdf\")"
   ]
  },
  {
   "cell_type": "code",
   "execution_count": 75,
   "metadata": {},
   "outputs": [
    {
     "data": {
      "image/png": "[encoded data removed]",
      "text/plain": [
       "<Figure size 340x124 with 1 Axes>"
      ]
     },
     "metadata": {},
     "output_type": "display_data"
    }
   ],
   "source": [
    "plt.rcParams['font.family'] = 'Arial'\n",
    "fig = plt.figure(figsize=(4.25, 1.55))\n",
    "ax = fig.add_axes([0.15, 0.20, 0.82, 0.75])\n",
    "plt.plot(small_dense_tensor[26, 26, :], color = \"#006ea3\",linewidth = 1.0, label = \"Actual value\")\n",
    "plt.plot(tensor_hat[26, 26, :], color = \"#e3120b\", linewidth = 1.5, label = \"Predicted value\")\n",
    "ax.set_xlim([0, pred_time_steps])\n",
    "ax.set_ylim([0, 200])\n",
    "ax.grid(color = 'gray', linestyle = '-', linewidth = 0.1, alpha = 0.2)\n",
    "small_sparse_tensor = sparse_tensor[:, :, dense_tensor.shape[2] - pred_time_steps : dense_tensor.shape[2]]\n",
    "for j in range(7):\n",
    "    if small_sparse_tensor[26, 26, 24 * j] > 0:\n",
    "        someX, someY = j * 24, 0\n",
    "        currentAxis = plt.gca()\n",
    "        ax.add_patch(patches.Rectangle((someX, someY), 24, 200, alpha = 0.1, facecolor = 'green'))\n",
    "\n",
    "plt.xticks(np.arange(0, 7 * 24, 24), [\"         Jun.24\", \"         Jun.25\", \n",
    "                                        \"          Jun.26\", \"           Jun.27\", \n",
    "                                       \"           Jun.28\", \"            Jun.29\", \n",
    "                                       \"             Jun.30\"])\n",
    "plt.yticks(np.arange(0, 200, 50), [0, 50, 100, 150, 200], **axis_font)\n",
    "ax.set_ylabel(\"Volume\")\n",
    "ax.grid(color = 'gray', linestyle = '-', linewidth = 0.4, alpha = 0.5, axis = 'x')\n",
    "plt.show()\n",
    "fig.savefig(\"../images/NYC_time_series_volume_2727.pdf\")"
   ]
  },
  {
   "cell_type": "code",
   "execution_count": 76,
   "metadata": {
    "scrolled": true
   },
   "outputs": [
    {
     "data": {
      "image/png": "[encoded data removed]",
      "text/plain": [
       "<Figure size 340x124 with 1 Axes>"
      ]
     },
     "metadata": {},
     "output_type": "display_data"
    }
   ],
   "source": [
    "plt.rcParams['font.family'] = 'Arial'\n",
    "fig = plt.figure(figsize=(4.25, 1.55))\n",
    "ax = fig.add_axes([0.15, 0.20, 0.82, 0.75])\n",
    "plt.plot(small_dense_tensor[16, 26, :], color = \"#006ea3\",linewidth = 1.0, label = \"Actual value\")\n",
    "plt.plot(tensor_hat[16, 26, :], color = \"#e3120b\", linewidth = 1.5, label = \"Predicted value\")\n",
    "ax.set_xlim([0, pred_time_steps])\n",
    "ax.set_ylim([0, 200])\n",
    "ax.grid(color = 'gray', linestyle = '-', linewidth = 0.1, alpha = 0.2)\n",
    "small_sparse_tensor = sparse_tensor[:, :, dense_tensor.shape[2] - pred_time_steps : dense_tensor.shape[2]]\n",
    "for j in range(7):\n",
    "    if small_sparse_tensor[16, 26, 24 * j] > 0:\n",
    "        someX, someY = j * 24, 0\n",
    "        currentAxis = plt.gca()\n",
    "        ax.add_patch(patches.Rectangle((someX, someY), 24, 200, alpha = 0.1, facecolor = 'green'))\n",
    "\n",
    "plt.xticks(np.arange(0, 7 * 24, 24), [\"         Jun.24\", \"         Jun.25\", \n",
    "                                        \"          Jun.26\", \"           Jun.27\", \n",
    "                                       \"           Jun.28\", \"            Jun.29\", \n",
    "                                       \"             Jun.30\"])\n",
    "plt.yticks(np.arange(0, 200, 50), [0, 50, 100, 150, 200], **axis_font)\n",
    "ax.set_ylabel(\"Volume\")\n",
    "ax.grid(color = 'gray', linestyle = '-', linewidth = 0.4, alpha = 0.5, axis = 'x')\n",
    "plt.show()\n",
    "fig.savefig(\"../images/NYC_time_series_volume_1727.pdf\")"
   ]
  }
 ],
 "metadata": {
  "kernelspec": {
   "display_name": "Python 3",
   "language": "python",
   "name": "python3"
  },
  "language_info": {
   "codemirror_mode": {
    "name": "ipython",
    "version": 3
   },
   "file_extension": ".py",
   "mimetype": "text/x-python",
   "name": "python",
   "nbconvert_exporter": "python",
   "pygments_lexer": "ipython3",
   "version": "3.7.3"
  }
 },
 "nbformat": 4,
 "nbformat_minor": 2
}
