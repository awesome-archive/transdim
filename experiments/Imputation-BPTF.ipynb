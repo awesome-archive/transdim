{
 "cells": [
  {
   "cell_type": "markdown",
   "metadata": {},
   "source": [
    "# About this Notebook\n",
    "---\n",
    "\n",
    "**Bayesian probabilistic tensor factorization** (or **BPTF** for short) is a type of Bayesian tensor decomposition that achieves state-of-the-art results on challenging the missing data imputation problem, which particularly posed a temporal smoothness on factor matrix. If you want to understand what is BPTF and its modeling tricks in detail, one paper is for you:\n",
    "\n",
    "> L. Xiong, X. Chen, T.-K. Huang, et al., 2010. **Temporal collaborative filtering with Bayesian Probabilistic tensor factorization.**\n",
    "\n",
    "## Quick Run\n",
    "\n",
    "This notebook is publicly available for any usage at our data imputation project. Please click [**transdim**](https://github.com/xinychen/transdim)."
   ]
  },
  {
   "cell_type": "code",
   "execution_count": 1,
   "metadata": {},
   "outputs": [],
   "source": [
    "import numpy as np\n",
    "from numpy.random import multivariate_normal as mvnrnd\n",
    "from scipy.stats import wishart\n",
    "from numpy.linalg import inv as inv"
   ]
  },
  {
   "cell_type": "markdown",
   "metadata": {},
   "source": [
    "# Part 1: Matrix Computation Concepts\n",
    "\n",
    "## 1) Kronecker product\n",
    "\n",
    "- **Definition**:\n",
    "\n",
    "Given two matrices $A\\in\\mathbb{R}^{m_1\\times n_1}$ and $B\\in\\mathbb{R}^{m_2\\times n_2}$, then, the **Kronecker product** between these two matrices is defined as\n",
    "\n",
    "$$A\\otimes B=\\left[ \\begin{array}{cccc} a_{11}B & a_{12}B & \\cdots & a_{1m_2}B \\\\ a_{21}B & a_{22}B & \\cdots & a_{2m_2}B \\\\ \\vdots & \\vdots & \\ddots & \\vdots \\\\ a_{m_11}B & a_{m_12}B & \\cdots & a_{m_1m_2}B \\\\ \\end{array} \\right]$$\n",
    "where the symbol $\\otimes$ denotes Kronecker product, and the size of resulted $A\\otimes B$ is $(m_1m_2)\\times (n_1n_2)$ (i.e., $m_1\\times m_2$ columns and $n_1\\times n_2$ rows).\n",
    "\n",
    "- **Example**:\n",
    "\n",
    "If $A=\\left[ \\begin{array}{cc} 1 & 2 \\\\ 3 & 4 \\\\ \\end{array} \\right]$ and $B=\\left[ \\begin{array}{ccc} 5 & 6 & 7\\\\ 8 & 9 & 10 \\\\ \\end{array} \\right]$, then, we have\n",
    "\n",
    "$$A\\otimes B=\\left[ \\begin{array}{cc} 1\\times \\left[ \\begin{array}{ccc} 5 & 6 & 7\\\\ 8 & 9 & 10\\\\ \\end{array} \\right] & 2\\times \\left[ \\begin{array}{ccc} 5 & 6 & 7\\\\ 8 & 9 & 10\\\\ \\end{array} \\right] \\\\ 3\\times \\left[ \\begin{array}{ccc} 5 & 6 & 7\\\\ 8 & 9 & 10\\\\ \\end{array} \\right] & 4\\times \\left[ \\begin{array}{ccc} 5 & 6 & 7\\\\ 8 & 9 & 10\\\\ \\end{array} \\right] \\\\ \\end{array} \\right]$$\n",
    "\n",
    "$$=\\left[ \\begin{array}{cccccc} 5 & 6 & 7 & 10 & 12 & 14 \\\\ 8 & 9 & 10 & 16 & 18 & 20 \\\\ 15 & 18 & 21 & 20 & 24 & 28 \\\\ 24 & 27 & 30 & 32 & 36 & 40 \\\\ \\end{array} \\right]\\in\\mathbb{R}^{4\\times 6}.$$\n"
   ]
  },
  {
   "cell_type": "markdown",
   "metadata": {},
   "source": [
    "## 2) Khatri-Rao product (`kr_prod`)\n",
    "\n",
    "- **Definition**:\n",
    "\n",
    "Given two matrices $A=\\left( \\boldsymbol{a}_1,\\boldsymbol{a}_2,...,\\boldsymbol{a}_r \\right)\\in\\mathbb{R}^{m\\times r}$ and $B=\\left( \\boldsymbol{b}_1,\\boldsymbol{b}_2,...,\\boldsymbol{b}_r \\right)\\in\\mathbb{R}^{n\\times r}$ with same number of columns, then, the **Khatri-Rao product** (or **column-wise Kronecker product**) between $A$ and $B$ is given as follows,\n",
    "\n",
    "$$A\\odot B=\\left( \\boldsymbol{a}_1\\otimes \\boldsymbol{b}_1,\\boldsymbol{a}_2\\otimes \\boldsymbol{b}_2,...,\\boldsymbol{a}_r\\otimes \\boldsymbol{b}_r \\right)\\in\\mathbb{R}^{(mn)\\times r},$$\n",
    "where the symbol $\\odot$ denotes Khatri-Rao product, and $\\otimes$ denotes Kronecker product.\n",
    "\n",
    "- **Example**:\n",
    "\n",
    "If $A=\\left[ \\begin{array}{cc} 1 & 2 \\\\ 3 & 4 \\\\ \\end{array} \\right]=\\left( \\boldsymbol{a}_1,\\boldsymbol{a}_2 \\right) $ and $B=\\left[ \\begin{array}{cc} 5 & 6 \\\\ 7 & 8 \\\\ 9 & 10 \\\\ \\end{array} \\right]=\\left( \\boldsymbol{b}_1,\\boldsymbol{b}_2 \\right) $, then, we have\n",
    "\n",
    "$$A\\odot B=\\left( \\boldsymbol{a}_1\\otimes \\boldsymbol{b}_1,\\boldsymbol{a}_2\\otimes \\boldsymbol{b}_2 \\right) $$\n",
    "\n",
    "$$=\\left[ \\begin{array}{cc} \\left[ \\begin{array}{c} 1 \\\\ 3 \\\\ \\end{array} \\right]\\otimes \\left[ \\begin{array}{c} 5 \\\\ 7 \\\\ 9 \\\\ \\end{array} \\right] & \\left[ \\begin{array}{c} 2 \\\\ 4 \\\\ \\end{array} \\right]\\otimes \\left[ \\begin{array}{c} 6 \\\\ 8 \\\\ 10 \\\\ \\end{array} \\right] \\\\ \\end{array} \\right]$$\n",
    "\n",
    "$$=\\left[ \\begin{array}{cc} 5 & 12 \\\\ 7 & 16 \\\\ 9 & 20 \\\\ 15 & 24 \\\\ 21 & 32 \\\\ 27 & 40 \\\\ \\end{array} \\right]\\in\\mathbb{R}^{6\\times 2}.$$"
   ]
  },
  {
   "cell_type": "code",
   "execution_count": 2,
   "metadata": {},
   "outputs": [],
   "source": [
    "def kr_prod(a, b):\n",
    "    return np.einsum('ir, jr -> ijr', a, b).reshape(a.shape[0] * b.shape[0], -1)"
   ]
  },
  {
   "cell_type": "code",
   "execution_count": 3,
   "metadata": {},
   "outputs": [
    {
     "name": "stdout",
     "output_type": "stream",
     "text": [
      "[[ 5 12]\n",
      " [ 7 16]\n",
      " [ 9 20]\n",
      " [15 24]\n",
      " [21 32]\n",
      " [27 40]]\n"
     ]
    }
   ],
   "source": [
    "A = np.array([[1, 2], [3, 4]])\n",
    "B = np.array([[5, 6], [7, 8], [9, 10]])\n",
    "print(kr_prod(A, B))"
   ]
  },
  {
   "cell_type": "markdown",
   "metadata": {},
   "source": [
    "## 3) CP decomposition\n",
    "\n",
    "### CP Combination (`cp_combination`)\n",
    "\n",
    "- **Definition**:\n",
    "\n",
    "The CP decomposition factorizes a tensor into a sum of outer products of vectors. For example, for a third-order tensor $\\mathcal{Y}\\in\\mathbb{R}^{m\\times n\\times f}$, the CP decomposition can be written as\n",
    "\n",
    "$$\\hat{\\mathcal{Y}}=\\sum_{s=1}^{r}\\boldsymbol{u}_{s}\\circ\\boldsymbol{v}_{s}\\circ\\boldsymbol{x}_{s},$$\n",
    "or element-wise,\n",
    "\n",
    "$$\\hat{y}_{ijt}=\\sum_{s=1}^{r}u_{is}v_{js}x_{ts},\\forall (i,j,t),$$\n",
    "where vectors $\\boldsymbol{u}_{s}\\in\\mathbb{R}^{m},\\boldsymbol{v}_{s}\\in\\mathbb{R}^{n},\\boldsymbol{x}_{s}\\in\\mathbb{R}^{f}$ are columns of factor matrices $U\\in\\mathbb{R}^{m\\times r},V\\in\\mathbb{R}^{n\\times r},X\\in\\mathbb{R}^{f\\times r}$, respectively. The symbol $\\circ$ denotes vector outer product.\n",
    "\n",
    "- **Example**:\n",
    "\n",
    "Given matrices $U=\\left[ \\begin{array}{cc} 1 & 2 \\\\ 3 & 4 \\\\ \\end{array} \\right]\\in\\mathbb{R}^{2\\times 2}$, $V=\\left[ \\begin{array}{cc} 1 & 2 \\\\ 3 & 4 \\\\ 5 & 6 \\\\ \\end{array} \\right]\\in\\mathbb{R}^{3\\times 2}$ and $X=\\left[ \\begin{array}{cc} 1 & 5 \\\\ 2 & 6 \\\\ 3 & 7 \\\\ 4 & 8 \\\\ \\end{array} \\right]\\in\\mathbb{R}^{4\\times 2}$, then if $\\hat{\\mathcal{Y}}=\\sum_{s=1}^{r}\\boldsymbol{u}_{s}\\circ\\boldsymbol{v}_{s}\\circ\\boldsymbol{x}_{s}$, then, we have\n",
    "\n",
    "$$\\hat{Y}_1=\\hat{\\mathcal{Y}}(:,:,1)=\\left[ \\begin{array}{ccc} 31 & 42 & 65 \\\\ 63 & 86 & 135 \\\\ \\end{array} \\right],$$\n",
    "$$\\hat{Y}_2=\\hat{\\mathcal{Y}}(:,:,2)=\\left[ \\begin{array}{ccc} 38 & 52 & 82 \\\\ 78 & 108 & 174 \\\\ \\end{array} \\right],$$\n",
    "$$\\hat{Y}_3=\\hat{\\mathcal{Y}}(:,:,3)=\\left[ \\begin{array}{ccc} 45 & 62 & 99 \\\\ 93 & 130 & 213 \\\\ \\end{array} \\right],$$\n",
    "$$\\hat{Y}_4=\\hat{\\mathcal{Y}}(:,:,4)=\\left[ \\begin{array}{ccc} 52 & 72 & 116 \\\\ 108 & 152 & 252 \\\\ \\end{array} \\right].$$"
   ]
  },
  {
   "cell_type": "code",
   "execution_count": 4,
   "metadata": {},
   "outputs": [],
   "source": [
    "def cp_combine(U, V, X):\n",
    "    return np.einsum('is, js, ts -> ijt', U, V, X)"
   ]
  },
  {
   "cell_type": "code",
   "execution_count": 5,
   "metadata": {},
   "outputs": [
    {
     "name": "stdout",
     "output_type": "stream",
     "text": [
      "[[[ 31  38  45  52]\n",
      "  [ 42  52  62  72]\n",
      "  [ 65  82  99 116]]\n",
      "\n",
      " [[ 63  78  93 108]\n",
      "  [ 86 108 130 152]\n",
      "  [135 174 213 252]]]\n",
      "\n",
      "tensor size:\n",
      "(2, 3, 4)\n"
     ]
    }
   ],
   "source": [
    "U = np.array([[1, 2], [3, 4]])\n",
    "V = np.array([[1, 3], [2, 4], [5, 6]])\n",
    "X = np.array([[1, 5], [2, 6], [3, 7], [4, 8]])\n",
    "print(cp_combine(U, V, X))\n",
    "print()\n",
    "print('tensor size:')\n",
    "print(cp_combine(U, V, X).shape)"
   ]
  },
  {
   "cell_type": "markdown",
   "metadata": {},
   "source": [
    "## 4) Tensor Unfolding (`ten2mat`)\n",
    "\n",
    "Using numpy reshape to perform 3rd rank tensor unfold operation. [[**link**](https://stackoverflow.com/questions/49970141/using-numpy-reshape-to-perform-3rd-rank-tensor-unfold-operation)]"
   ]
  },
  {
   "cell_type": "code",
   "execution_count": 6,
   "metadata": {},
   "outputs": [],
   "source": [
    "def ten2mat(tensor, mode):\n",
    "    return np.reshape(np.moveaxis(tensor, mode, 0), (tensor.shape[mode], -1), order = 'F')"
   ]
  },
  {
   "cell_type": "code",
   "execution_count": 7,
   "metadata": {},
   "outputs": [
    {
     "name": "stdout",
     "output_type": "stream",
     "text": [
      "tensor size:\n",
      "(3, 2, 4)\n",
      "original tensor:\n",
      "[[[ 1  2  3  4]\n",
      "  [ 3  4  5  6]]\n",
      "\n",
      " [[ 5  6  7  8]\n",
      "  [ 7  8  9 10]]\n",
      "\n",
      " [[ 9 10 11 12]\n",
      "  [11 12 13 14]]]\n",
      "\n",
      "(1) mode-1 tensor unfolding:\n",
      "[[ 1  3  2  4  3  5  4  6]\n",
      " [ 5  7  6  8  7  9  8 10]\n",
      " [ 9 11 10 12 11 13 12 14]]\n",
      "\n",
      "(2) mode-2 tensor unfolding:\n",
      "[[ 1  5  9  2  6 10  3  7 11  4  8 12]\n",
      " [ 3  7 11  4  8 12  5  9 13  6 10 14]]\n",
      "\n",
      "(3) mode-3 tensor unfolding:\n",
      "[[ 1  5  9  3  7 11]\n",
      " [ 2  6 10  4  8 12]\n",
      " [ 3  7 11  5  9 13]\n",
      " [ 4  8 12  6 10 14]]\n"
     ]
    }
   ],
   "source": [
    "X = np.array([[[1, 2, 3, 4], [3, 4, 5, 6]], \n",
    "              [[5, 6, 7, 8], [7, 8, 9, 10]], \n",
    "              [[9, 10, 11, 12], [11, 12, 13, 14]]])\n",
    "print('tensor size:')\n",
    "print(X.shape)\n",
    "print('original tensor:')\n",
    "print(X)\n",
    "print()\n",
    "print('(1) mode-1 tensor unfolding:')\n",
    "print(ten2mat(X, 0))\n",
    "print()\n",
    "print('(2) mode-2 tensor unfolding:')\n",
    "print(ten2mat(X, 1))\n",
    "print()\n",
    "print('(3) mode-3 tensor unfolding:')\n",
    "print(ten2mat(X, 2))"
   ]
  },
  {
   "cell_type": "markdown",
   "metadata": {},
   "source": [
    "## 5) Computing Covariance Matrix (`cov_mat`)\n",
    "\n",
    "For any matrix $X\\in\\mathbb{R}^{m\\times n}$, `cov_mat` can return a $n\\times n$ covariance matrix for special use in the following."
   ]
  },
  {
   "cell_type": "code",
   "execution_count": 8,
   "metadata": {},
   "outputs": [],
   "source": [
    "def cov_mat(mat):\n",
    "    dim1, dim2 = mat.shape\n",
    "    new_mat = np.zeros((dim2, dim2))\n",
    "    mat_bar = np.mean(mat, axis = 0)\n",
    "    for i in range(dim1):\n",
    "        new_mat += np.einsum('i, j -> ij', mat[i, :] - mat_bar, mat[i, :] - mat_bar)\n",
    "    return new_mat"
   ]
  },
  {
   "cell_type": "markdown",
   "metadata": {},
   "source": [
    "# Part 2: Bayesian probabilistic tensor factorization (BPTF)\n",
    "\n",
    "## 1) Model Description\n",
    "\n",
    "#### Gaussian assumption\n",
    "\n",
    "Given a matrix $\\mathcal{Y}\\in\\mathbb{R}^{m\\times n\\times f}$ which suffers from missing values, then the factorization can be applied to reconstruct the missing values within $\\mathcal{Y}$ by\n",
    "\n",
    "$$y_{ijt}\\sim\\mathcal{N}\\left(\\sum_{s=1}^{r}u_{is} v_{js} x_{ts},\\tau^{-1}\\right),\\forall (i,j,t),$$\n",
    "where vectors $\\boldsymbol{u}_{s}\\in\\mathbb{R}^{m},\\boldsymbol{v}_{s}\\in\\mathbb{R}^{n},\\boldsymbol{x}_{s}\\in\\mathbb{R}^{f}$ are columns of latent factor matrices, and $u_{is},v_{js},x_{ts}$ are their elements. The precision term $\\tau$ is an inverse of Gaussian variance.\n",
    "\n",
    "#### Bayesian framework\n",
    "\n",
    "Based on the Gaussian assumption over tensor elements $y_{ijt},(i,j,t)\\in\\Omega$ (where $\\Omega$ is a index set indicating observed tensor elements), the conjugate priors of model parameters (i.e., latent factors and precision term) and hyperparameters are given as\n",
    "\n",
    "$$\\boldsymbol{u}_{i}\\sim\\mathcal{N}\\left(\\boldsymbol{\\mu}_{u},\\Lambda_{u}^{-1}\\right),\\forall i,$$\n",
    "$$\\boldsymbol{v}_{j}\\sim\\mathcal{N}\\left(\\boldsymbol{\\mu}_{v},\\Lambda_{v}^{-1}\\right),\\forall j,$$\n",
    "$$\\boldsymbol{x}_{t}\\sim\\mathcal{N}\\left(\\boldsymbol{x}_{t-1},\\Lambda_{x}^{-1}\\right),t>1,$$\n",
    "$$\\boldsymbol{x}_{t}\\sim\\mathcal{N}\\left(\\boldsymbol{\\mu}_{x},\\Lambda_{x}^{-1}\\right),t=1,$$\n",
    "$$\\tau\\sim\\text{Gamma}\\left(a_0,b_0\\right),$$\n",
    "$$\\boldsymbol{\\mu}_{u}\\sim\\mathcal{N}\\left(\\boldsymbol{\\mu}_0,\\left(\\beta_0\\Lambda_u\\right)^{-1}\\right),\\Lambda_u\\sim\\mathcal{W}\\left(W_0,\\nu_0\\right),$$\n",
    "$$\\boldsymbol{\\mu}_{v}\\sim\\mathcal{N}\\left(\\boldsymbol{\\mu}_0,\\left(\\beta_0\\Lambda_v\\right)^{-1}\\right),\\Lambda_v\\sim\\mathcal{W}\\left(W_0,\\nu_0\\right),$$\n",
    "$$\\boldsymbol{\\mu}_{x}\\sim\\mathcal{N}\\left(\\boldsymbol{\\mu}_0,\\left(\\beta_0\\Lambda_x\\right)^{-1}\\right),\\Lambda_x\\sim\\mathcal{W}\\left(W_0,\\nu_0\\right).$$\n"
   ]
  },
  {
   "cell_type": "markdown",
   "metadata": {},
   "source": [
    "## 2) Posterior Inference\n",
    "\n",
    "Please read the paper written by **Xiong et al. (2010)**. In their paper, they have presented the result of posterior inference. "
   ]
  },
  {
   "cell_type": "code",
   "execution_count": 9,
   "metadata": {},
   "outputs": [],
   "source": [
    "def BPTF(dense_tensor, sparse_tensor, init, rank, maxiter1, maxiter2):\n",
    "    \"\"\"Bayesian probabilistic tensor factorization.\"\"\"\n",
    "    dim1, dim2, dim3 = sparse_tensor.shape\n",
    "    binary_tensor = np.zeros((dim1, dim2, dim3))\n",
    "    dim = np.array([dim1, dim2, dim3])\n",
    "    pos = np.where((dense_tensor != 0) & (sparse_tensor == 0))\n",
    "    position = np.where(sparse_tensor != 0)\n",
    "    binary_tensor[position] = 1\n",
    "    \n",
    "    U = init[\"U\"]\n",
    "    V = init[\"V\"]\n",
    "    X = init[\"X\"]\n",
    "\n",
    "    beta0 = 1\n",
    "    nu0 = rank\n",
    "    mu0 = np.zeros((rank))\n",
    "    W0 = np.eye(rank)\n",
    "    tau = 1\n",
    "    alpha = 1e-6\n",
    "    beta = 1e-6\n",
    "    rho = 0.1 * np.zeros((rank))\n",
    "    \n",
    "    U_plus = np.zeros((dim1, rank))\n",
    "    V_plus = np.zeros((dim2, rank))\n",
    "    X_plus = np.zeros((dim3, rank))\n",
    "    tensor_hat_plus = np.zeros((dim1, dim2, dim3))\n",
    "    for iters in range(maxiter1):\n",
    "        for order in range(2):\n",
    "            if order == 0:\n",
    "                mat = U.copy()\n",
    "            elif order == 1:\n",
    "                mat = V.copy()\n",
    "            mat_bar = np.mean(mat, axis = 0)\n",
    "            var_mu_hyper = (dim[order] * mat_bar + beta0 * mu0)/(dim[order] + beta0)\n",
    "            var_W_hyper = inv(inv(W0) + cov_mat(mat) + dim[order] * beta0/(dim[order] + beta0)\n",
    "                              * np.outer(mat_bar - mu0, mat_bar - mu0))\n",
    "            var_Lambda_hyper = wishart(df = dim[order] + nu0, scale = var_W_hyper, seed = None).rvs()\n",
    "            var_mu_hyper = mvnrnd(var_mu_hyper, inv((dim[order] + beta0) * var_Lambda_hyper))\n",
    "\n",
    "            if order == 0:\n",
    "                var1 = kr_prod(X, V).T\n",
    "            elif order == 1:\n",
    "                var1 = kr_prod(X, U).T\n",
    "            var2 = kr_prod(var1, var1)\n",
    "            var3 = (tau * np.matmul(var2, ten2mat(binary_tensor, order).T).reshape([rank, rank, dim[order]])\n",
    "                    + np.dstack([var_Lambda_hyper] * dim[order]))\n",
    "            var4 = (tau * np.matmul(var1, ten2mat(sparse_tensor, order).T) \n",
    "                    + np.dstack([np.matmul(var_Lambda_hyper, var_mu_hyper)] * dim[order])[0, :, :])\n",
    "            for i in range(dim[order]):\n",
    "                var_Lambda = var3[ :, :, i]\n",
    "                inv_var_Lambda = inv((var_Lambda + var_Lambda.T)/2)\n",
    "                vec = mvnrnd(np.matmul(inv_var_Lambda, var4[:, i]), inv_var_Lambda)\n",
    "                if order == 0:\n",
    "                    U[i, :] = vec.copy()\n",
    "                elif order == 1:\n",
    "                    V[i, :] = vec.copy()\n",
    "        \n",
    "        var_mu_hyper = (beta0 * rho + X[0, :])/(beta0 + 1)\n",
    "        var_W_hyper = inv(inv(W0) + np.matmul((X[1 : dim3, :] - X[0 : dim3 - 1, :]).T, \n",
    "                                              X[1 : dim3, :] - X[0 : dim3 - 1, :]) \n",
    "                          + (beta0 * np.outer(X[0, :] - rho, X[0, :] - rho))/(1 + beta0))\n",
    "        var_Lambda_hyper = wishart(df = dim3 + nu0, scale = var_W_hyper, seed = None).rvs()\n",
    "        var_mu_hyper = mvnrnd(var_mu_hyper, inv((1 + beta0) * var_Lambda_hyper))\n",
    "        \n",
    "        var1 = kr_prod(V, U).T\n",
    "        var2 = kr_prod(var1, var1)\n",
    "        var3 = (tau * np.matmul(var2, ten2mat(binary_tensor, 2).T).reshape([rank, rank, dim3])\n",
    "               + np.dstack([var_Lambda_hyper] * dim3))\n",
    "        var4 = tau * np.matmul(var1, ten2mat(sparse_tensor, 2).T)\n",
    "        for t in range(dim3):\n",
    "            if t == 0:\n",
    "                var_mu = (X[t + 1, :] + var_mu_hyper)/2\n",
    "                var_Lambda = var_Lambda_hyper + var3[:, :, t]\n",
    "                inv_var_Lambda = inv((var_Lambda + var_Lambda.T)/2)\n",
    "            elif t == dim3 - 1:\n",
    "                inv_var_Lambda = inv((var3[:, :, t] + var3[:, :, t].T)/2)\n",
    "                var_mu = np.matmul(inv_var_Lambda, var4[:, t] + np.matmul(var_Lambda_hyper, X[t - 1, :]))\n",
    "            else:\n",
    "                var_Lambda = var_Lambda_hyper + var3[:, :, t]\n",
    "                inv_var_Lambda = inv((var_Lambda + var_Lambda.T)/2)\n",
    "                var_mu = np.matmul(inv_var_Lambda, var4[:, t] \n",
    "                                   + np.matmul(var_Lambda_hyper, X[t + 1, :] + X[t - 1, :]))\n",
    "            X[t, :] = mvnrnd(var_mu, inv_var_Lambda)\n",
    "\n",
    "        if iters + 1 > maxiter1 - maxiter2:\n",
    "            U_plus += U\n",
    "            V_plus += V\n",
    "            X_plus += X\n",
    "\n",
    "        tensor_hat = cp_combine(U, V, X)\n",
    "        if iters + 1 > maxiter1 - maxiter2:\n",
    "            tensor_hat_plus += tensor_hat\n",
    "        rmse = np.sqrt(np.sum((dense_tensor[pos] - tensor_hat[pos]) ** 2)/dense_tensor[pos].shape[0])\n",
    "        \n",
    "        var_alpha = alpha + 0.5 * sparse_tensor[position].shape[0]\n",
    "        error = sparse_tensor - tensor_hat\n",
    "        var_beta = beta + 0.5 * np.sum(error[position] ** 2)\n",
    "        tau = np.random.gamma(var_alpha, 1/var_beta)\n",
    "        \n",
    "        if (iters + 1) % 200 == 0 and iters < maxiter1 - maxiter2:\n",
    "            print('Iter: {}'.format(iters + 1))\n",
    "            print('RMSE: {:.6}'.format(rmse))\n",
    "            print()\n",
    "        \n",
    "    U = U_plus/maxiter2\n",
    "    V = V_plus/maxiter2\n",
    "    X = X_plus/maxiter2\n",
    "    tensor_hat = tensor_hat_plus/maxiter2\n",
    "    final_mape = np.sum(np.abs(dense_tensor[pos] - tensor_hat[pos])/dense_tensor[pos])/dense_tensor[pos].shape[0]\n",
    "    final_rmse = np.sqrt(np.sum((dense_tensor[pos] - tensor_hat[pos]) ** 2)/dense_tensor[pos].shape[0])\n",
    "    print('Final MAPE: {:.6}'.format(final_mape))\n",
    "    print('Final RMSE: {:.6}'.format(final_rmse))\n",
    "    print()"
   ]
  },
  {
   "cell_type": "markdown",
   "metadata": {},
   "source": [
    "**How to transform a data set into something we can use for time series imputation?**\n"
   ]
  },
  {
   "cell_type": "code",
   "execution_count": 10,
   "metadata": {},
   "outputs": [],
   "source": [
    "import scipy.io\n",
    "\n",
    "tensor = scipy.io.loadmat('../NYC-data-set/tensor.mat')\n",
    "dense_tensor = tensor['tensor']\n",
    "rm_tensor = scipy.io.loadmat('../NYC-data-set/rm_tensor.mat')\n",
    "rm_tensor = rm_tensor['rm_tensor']\n",
    "nm_tensor = scipy.io.loadmat('../NYC-data-set/nm_tensor.mat')\n",
    "nm_tensor = nm_tensor['nm_tensor']\n",
    "\n",
    "missing_rate = 0.1\n",
    "\n",
    "# =============================================================================\n",
    "### Random missing (RM) scenario\n",
    "### Set the RM scenario by:\n",
    "binary_tensor = np.round(rm_tensor + 0.5 - missing_rate)\n",
    "# =============================================================================\n",
    "\n",
    "sparse_tensor = np.multiply(dense_tensor, binary_tensor)"
   ]
  },
  {
   "cell_type": "markdown",
   "metadata": {},
   "source": [
    "**Question**: Given only the partially observed data $\\mathcal{Y}\\in\\mathbb{R}^{m\\times n\\times f}$, how can we impute the unknown missing values?\n",
    "\n",
    "The main influential factors for such imputation model are:\n",
    "\n",
    "- `rank`.\n",
    "\n",
    "- `maxiter1`.\n",
    "\n",
    "- `maxiter2`."
   ]
  },
  {
   "cell_type": "code",
   "execution_count": 11,
   "metadata": {},
   "outputs": [
    {
     "name": "stdout",
     "output_type": "stream",
     "text": [
      "Iter: 200\n",
      "RMSE: 5.07312\n",
      "\n",
      "Iter: 400\n",
      "RMSE: 5.01909\n",
      "\n",
      "Iter: 600\n",
      "RMSE: 4.96905\n",
      "\n",
      "Iter: 800\n",
      "RMSE: 4.91407\n",
      "\n",
      "Iter: 1000\n",
      "RMSE: 4.91866\n",
      "\n",
      "Final MAPE: 0.518978\n",
      "Final RMSE: 4.68414\n",
      "\n",
      "Running time: 1281 seconds\n"
     ]
    }
   ],
   "source": [
    "import time\n",
    "start = time.time()\n",
    "dim1, dim2, dim3 = sparse_tensor.shape\n",
    "rank = 30\n",
    "time_lags = np.array([1, 2, 24])\n",
    "d = time_lags.shape[0]\n",
    "init = {\"U\": 0.1 * np.random.rand(dim1, rank),\n",
    "       \"V\": 0.1 * np.random.rand(dim2, rank),\n",
    "       \"X\": 0.1 * np.random.rand(dim3, rank)}\n",
    "maxiter1 = 1100\n",
    "maxiter2 = 100\n",
    "BPTF(dense_tensor, sparse_tensor, init, rank, maxiter1, maxiter2)\n",
    "end = time.time()\n",
    "print('Running time: %d seconds'%(end - start))"
   ]
  },
  {
   "cell_type": "code",
   "execution_count": 12,
   "metadata": {},
   "outputs": [],
   "source": [
    "import scipy.io\n",
    "\n",
    "tensor = scipy.io.loadmat('../NYC-data-set/tensor.mat')\n",
    "dense_tensor = tensor['tensor']\n",
    "rm_tensor = scipy.io.loadmat('../NYC-data-set/rm_tensor.mat')\n",
    "rm_tensor = rm_tensor['rm_tensor']\n",
    "nm_tensor = scipy.io.loadmat('../NYC-data-set/nm_tensor.mat')\n",
    "nm_tensor = nm_tensor['nm_tensor']\n",
    "\n",
    "missing_rate = 0.3\n",
    "\n",
    "# =============================================================================\n",
    "### Random missing (RM) scenario\n",
    "### Set the RM scenario by:\n",
    "binary_tensor = np.round(rm_tensor + 0.5 - missing_rate)\n",
    "# =============================================================================\n",
    "\n",
    "sparse_tensor = np.multiply(dense_tensor, binary_tensor)"
   ]
  },
  {
   "cell_type": "code",
   "execution_count": 13,
   "metadata": {},
   "outputs": [
    {
     "name": "stdout",
     "output_type": "stream",
     "text": [
      "Iter: 200\n",
      "RMSE: 5.13092\n",
      "\n",
      "Iter: 400\n",
      "RMSE: 5.07661\n",
      "\n",
      "Iter: 600\n",
      "RMSE: 5.05075\n",
      "\n",
      "Iter: 800\n",
      "RMSE: 5.03971\n",
      "\n",
      "Iter: 1000\n",
      "RMSE: 5.01414\n",
      "\n",
      "Final MAPE: 0.52724\n",
      "Final RMSE: 4.77209\n",
      "\n",
      "Running time: 1393 seconds\n"
     ]
    }
   ],
   "source": [
    "import time\n",
    "start = time.time()\n",
    "dim1, dim2, dim3 = sparse_tensor.shape\n",
    "rank = 30\n",
    "time_lags = np.array([1, 2, 24])\n",
    "d = time_lags.shape[0]\n",
    "init = {\"U\": 0.1 * np.random.rand(dim1, rank),\n",
    "       \"V\": 0.1 * np.random.rand(dim2, rank),\n",
    "       \"X\": 0.1 * np.random.rand(dim3, rank)}\n",
    "maxiter1 = 1100\n",
    "maxiter2 = 100\n",
    "BPTF(dense_tensor, sparse_tensor, init, rank, maxiter1, maxiter2)\n",
    "end = time.time()\n",
    "print('Running time: %d seconds'%(end - start))"
   ]
  },
  {
   "cell_type": "code",
   "execution_count": 14,
   "metadata": {},
   "outputs": [],
   "source": [
    "import scipy.io\n",
    "\n",
    "tensor = scipy.io.loadmat('../NYC-data-set/tensor.mat')\n",
    "dense_tensor = tensor['tensor']\n",
    "rm_tensor = scipy.io.loadmat('../NYC-data-set/rm_tensor.mat')\n",
    "rm_tensor = rm_tensor['rm_tensor']\n",
    "nm_tensor = scipy.io.loadmat('../NYC-data-set/nm_tensor.mat')\n",
    "nm_tensor = nm_tensor['nm_tensor']\n",
    "\n",
    "missing_rate = 0.1\n",
    "\n",
    "# =============================================================================\n",
    "### Non-random missing (NM) scenario\n",
    "### Set the NM scenario by:\n",
    "binary_tensor = np.zeros(dense_tensor.shape)\n",
    "for i1 in range(dense_tensor.shape[0]):\n",
    "    for i2 in range(dense_tensor.shape[1]):\n",
    "        for i3 in range(61):\n",
    "            binary_tensor[i1, i2, i3 * 24 : (i3 + 1) * 24] = np.round(nm_tensor[i1, i2, i3] + 0.5 - missing_rate)\n",
    "# =============================================================================\n",
    "\n",
    "sparse_tensor = np.multiply(dense_tensor, binary_tensor)"
   ]
  },
  {
   "cell_type": "code",
   "execution_count": 15,
   "metadata": {},
   "outputs": [
    {
     "name": "stdout",
     "output_type": "stream",
     "text": [
      "Iter: 200\n",
      "RMSE: 5.69116\n",
      "\n",
      "Iter: 400\n",
      "RMSE: 5.38608\n",
      "\n",
      "Iter: 600\n",
      "RMSE: 5.52483\n",
      "\n",
      "Iter: 800\n",
      "RMSE: 5.38108\n",
      "\n",
      "Iter: 1000\n",
      "RMSE: 5.39472\n",
      "\n",
      "Final MAPE: 0.527338\n",
      "Final RMSE: 5.00885\n",
      "\n",
      "Running time: 1375 seconds\n"
     ]
    }
   ],
   "source": [
    "import time\n",
    "start = time.time()\n",
    "dim1, dim2, dim3 = sparse_tensor.shape\n",
    "rank = 30\n",
    "time_lags = np.array([1, 2, 24])\n",
    "d = time_lags.shape[0]\n",
    "init = {\"U\": 0.1 * np.random.rand(dim1, rank),\n",
    "       \"V\": 0.1 * np.random.rand(dim2, rank),\n",
    "       \"X\": 0.1 * np.random.rand(dim3, rank)}\n",
    "maxiter1 = 1100\n",
    "maxiter2 = 100\n",
    "BPTF(dense_tensor, sparse_tensor, init, rank, maxiter1, maxiter2)\n",
    "end = time.time()\n",
    "print('Running time: %d seconds'%(end - start))"
   ]
  },
  {
   "cell_type": "code",
   "execution_count": 16,
   "metadata": {},
   "outputs": [],
   "source": [
    "import scipy.io\n",
    "\n",
    "tensor = scipy.io.loadmat('../NYC-data-set/tensor.mat')\n",
    "dense_tensor = tensor['tensor']\n",
    "rm_tensor = scipy.io.loadmat('../NYC-data-set/rm_tensor.mat')\n",
    "rm_tensor = rm_tensor['rm_tensor']\n",
    "nm_tensor = scipy.io.loadmat('../NYC-data-set/nm_tensor.mat')\n",
    "nm_tensor = nm_tensor['nm_tensor']\n",
    "\n",
    "missing_rate = 0.3\n",
    "\n",
    "# =============================================================================\n",
    "### Non-random missing (NM) scenario\n",
    "### Set the NM scenario by:\n",
    "binary_tensor = np.zeros(dense_tensor.shape)\n",
    "for i1 in range(dense_tensor.shape[0]):\n",
    "    for i2 in range(dense_tensor.shape[1]):\n",
    "        for i3 in range(61):\n",
    "            binary_tensor[i1, i2, i3 * 24 : (i3 + 1) * 24] = np.round(nm_tensor[i1, i2, i3] + 0.5 - missing_rate)\n",
    "# =============================================================================\n",
    "\n",
    "sparse_tensor = np.multiply(dense_tensor, binary_tensor)"
   ]
  },
  {
   "cell_type": "code",
   "execution_count": 17,
   "metadata": {},
   "outputs": [
    {
     "name": "stdout",
     "output_type": "stream",
     "text": [
      "Iter: 200\n",
      "RMSE: 5.79731\n",
      "\n",
      "Iter: 400\n",
      "RMSE: 5.70744\n",
      "\n",
      "Iter: 600\n",
      "RMSE: 5.69342\n",
      "\n",
      "Iter: 800\n",
      "RMSE: 5.65908\n",
      "\n",
      "Iter: 1000\n",
      "RMSE: 5.53753\n",
      "\n",
      "Final MAPE: 0.525283\n",
      "Final RMSE: 5.25305\n",
      "\n",
      "Running time: 1285 seconds\n"
     ]
    }
   ],
   "source": [
    "import time\n",
    "start = time.time()\n",
    "dim1, dim2, dim3 = sparse_tensor.shape\n",
    "rank = 30\n",
    "time_lags = np.array([1, 2, 24])\n",
    "d = time_lags.shape[0]\n",
    "init = {\"U\": 0.1 * np.random.rand(dim1, rank),\n",
    "       \"V\": 0.1 * np.random.rand(dim2, rank),\n",
    "       \"X\": 0.1 * np.random.rand(dim3, rank)}\n",
    "maxiter1 = 1100\n",
    "maxiter2 = 100\n",
    "BPTF(dense_tensor, sparse_tensor, init, rank, maxiter1, maxiter2)\n",
    "end = time.time()\n",
    "print('Running time: %d seconds'%(end - start))"
   ]
  },
  {
   "cell_type": "markdown",
   "metadata": {},
   "source": [
    "**Experiment results** of missing data imputation using BPTF:\n",
    "\n",
    "|  scenario |`rank`|`maxiter1`|`maxiter2`|       mape |      rmse |\n",
    "|:----------|-----:|---------:|---------:|-----------:|----------:|\n",
    "|**0.1, RM**|   30 |     1100 |      100 | **0.5190** | **4.6841**|\n",
    "|**0.3, RM**|   30 |     1100 |      100 | **0.5272** | **4.7721**|\n",
    "|**0.1, NM**|   30 |     1100 |      100 | **0.5273** | **5.0089**|\n",
    "|**0.3, NM**|   30 |     1100 |      100 | **0.5253** | **5.2531**|"
   ]
  }
 ],
 "metadata": {
  "kernelspec": {
   "display_name": "Python 3",
   "language": "python",
   "name": "python3"
  },
  "language_info": {
   "codemirror_mode": {
    "name": "ipython",
    "version": 3
   },
   "file_extension": ".py",
   "mimetype": "text/x-python",
   "name": "python",
   "nbconvert_exporter": "python",
   "pygments_lexer": "ipython3",
   "version": "3.7.3"
  }
 },
 "nbformat": 4,
 "nbformat_minor": 2
}
